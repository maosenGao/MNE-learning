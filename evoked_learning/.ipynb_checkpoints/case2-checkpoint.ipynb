{
 "cells": [
  {
   "cell_type": "code",
   "execution_count": 1,
   "metadata": {},
   "outputs": [],
   "source": [
    "import numpy as np\n",
    "# import neo # 同样没有用上，但是也做出了正确的图像\n",
    "import mne\n",
    "import matplotlib.pyplot as plt"
   ]
  },
  {
   "cell_type": "code",
   "execution_count": 5,
   "metadata": {},
   "outputs": [
    {
     "data": {
      "image/png": "[encoded data removed]",
      "text/plain": [
       "<Figure size 460.8x216 with 1 Axes>"
      ]
     },
     "metadata": {
      "needs_background": "light"
     },
     "output_type": "display_data"
    }
   ],
   "source": [
    "\"\"\"设置event id,用来识别events.\"\"\"\n",
    "\n",
    "event_id = 1\n",
    "\n",
    "# 第一列表示样本编号\n",
    "\n",
    "events = np.array([[200, 0, event_id],\n",
    "                   [1200, 0, event_id],\n",
    "                   [2000, 0, event_id]])\n",
    "\n",
    "  # List of three arbitrary events\n",
    "    \n",
    "sfreq = 1000\n",
    "  # 采样频率\n",
    "\n",
    "times = np.arange(0, 10, 0.001)\n",
    "  # Use 10000 samples (10s)\n",
    "    \n",
    "sin = np.sin(times * 10)\n",
    "  # 乘以 10 缩短周期\n",
    "\n",
    "cos = np.cos(times * 10)\n",
    "\"\"\"利用sin和cos创建一个2个通道的700 ms epochs的数据集\n",
    "只要是(n_epochs, n_channels, n_times)形状的数据，都可以被用来创建\"\"\"\n",
    "epochs_data = np.array([[sin[:700], cos[:700]],\n",
    "                        [sin[1000:1700], cos[1000:1700]],\n",
    "                        [sin[1800:2500], cos[1800:2500]]])\n",
    "\n",
    "\n",
    "ch_names = ['sin', 'cos']\n",
    "ch_types = ['mag', 'mag']\n",
    "\n",
    "\n",
    "info = mne.create_info(ch_names=ch_names,\n",
    "                       sfreq=sfreq,\n",
    "                       ch_types=ch_types)\n",
    "\n",
    "nave = len(epochs_data)\n",
    "  # Number of averaged\n",
    "     \n",
    "    \n",
    "#  epochs\n",
    "evoked_data = np.mean(epochs_data, axis=0)\n",
    "evokeds = mne.EvokedArray(evoked_data,\n",
    "                          info=info,\n",
    "                          tmin=-0.2,\n",
    "                          comment='Arbitrary',\n",
    "                          nave=nave)\n",
    "                       \n",
    "picks = mne.pick_types(info, meg=True, eeg=False, misc=False)\n",
    "evokeds.plot(picks=picks, \n",
    "             show=True, \n",
    "             units={'mag': '-'},\n",
    "             titles={'mag': 'sin and cos averaged'}, \n",
    "             time_unit='s')\n",
    "plt.show()\n"
   ]
  },
  {
   "cell_type": "code",
   "execution_count": null,
   "metadata": {},
   "outputs": [],
   "source": []
  }
 ],
 "metadata": {
  "kernelspec": {
   "display_name": "Python 3",
   "language": "python",
   "name": "python3"
  },
  "language_info": {
   "codemirror_mode": {
    "name": "ipython",
    "version": 3
   },
   "file_extension": ".py",
   "mimetype": "text/x-python",
   "name": "python",
   "nbconvert_exporter": "python",
   "pygments_lexer": "ipython3",
   "version": "3.7.5"
  }
 },
 "nbformat": 4,
 "nbformat_minor": 2
}
