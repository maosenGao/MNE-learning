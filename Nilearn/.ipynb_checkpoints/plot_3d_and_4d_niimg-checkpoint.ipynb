{
 "cells": [
  {
   "cell_type": "code",
   "execution_count": null,
   "metadata": {},
   "outputs": [],
   "source": [
    "\"\"\"\n",
    "3D and 4D niimgs: handling and visualizing\n",
    "==========================================\n",
    "\n",
    "Here we discover how to work with 3D and 4D niimgs.\n",
    "\"\"\""
   ]
  },
  {
   "cell_type": "code",
   "execution_count": null,
   "metadata": {},
   "outputs": [],
   "source": [
    "###############################################################################\n",
    "# Downloading tutorial datasets from Internet\n",
    "# --------------------------------------------\n",
    "#\n",
    "# Nilearn comes with functions that download public data from Internet\n",
    "#\n",
    "# Let's first check where the data is downloaded on our disk:\n",
    "from nilearn import datasets\n",
    "print('Datasets are stored in: %r' % datasets.get_data_dirs())"
   ]
  },
  {
   "cell_type": "code",
   "execution_count": null,
   "metadata": {},
   "outputs": [],
   "source": [
    "###############################################################################\n",
    "# Let's now retrieve a motor contrast from a Neurovault repository\n",
    "motor_images = datasets.fetch_neurovault_motor_task()\n",
    "motor_images.images"
   ]
  },
  {
   "cell_type": "code",
   "execution_count": null,
   "metadata": {},
   "outputs": [],
   "source": [
    "###############################################################################\n",
    "# motor_images is a list of filenames. We need to take the first one\n",
    "tmap_filename = motor_images.images[0]"
   ]
  },
  {
   "cell_type": "code",
   "execution_count": null,
   "metadata": {},
   "outputs": [],
   "source": [
    "###############################################################################\n",
    "# Visualizing a 3D file\n",
    "# ----------------------\n",
    "#\n",
    "# The file contains a 3D volume, we can easily visualize it as a\n",
    "# statistical map:\n",
    "from nilearn import plotting\n",
    "plotting.plot_stat_map(tmap_filename)"
   ]
  },
  {
   "cell_type": "code",
   "execution_count": null,
   "metadata": {},
   "outputs": [],
   "source": [
    "###############################################################################\n",
    "# Visualizing works better with a threshold\n",
    "plotting.plot_stat_map(tmap_filename, threshold=3)"
   ]
  },
  {
   "cell_type": "code",
   "execution_count": null,
   "metadata": {},
   "outputs": [],
   "source": [
    "###############################################################################\n",
    "# Visualizing one volume in a 4D file\n",
    "# -----------------------------------\n",
    "#\n",
    "# We can download resting-state networks from the Smith 2009 study on\n",
    "# correspondance between rest and task\n",
    "rsn = datasets.fetch_atlas_smith_2009()['rsn10']\n",
    "rsn"
   ]
  },
  {
   "cell_type": "code",
   "execution_count": null,
   "metadata": {},
   "outputs": [],
   "source": [
    "###############################################################################\n",
    "# It is a 4D nifti file. We load it into the memory to print its\n",
    "# shape.\n",
    "from nilearn import image\n",
    "print(image.load_img(rsn).shape)"
   ]
  },
  {
   "cell_type": "code",
   "execution_count": null,
   "metadata": {},
   "outputs": [],
   "source": [
    "###############################################################################\n",
    "# We can retrieve the first volume (note that Python indexing starts at 0):\n",
    "first_rsn = image.index_img(rsn, 0)\n",
    "print(first_rsn.shape)"
   ]
  },
  {
   "cell_type": "code",
   "execution_count": null,
   "metadata": {},
   "outputs": [],
   "source": [
    "###############################################################################\n",
    "# first_rsn is a 3D image.\n",
    "#\n",
    "# We can then plot it\n",
    "plotting.plot_stat_map(first_rsn)"
   ]
  },
  {
   "cell_type": "code",
   "execution_count": null,
   "metadata": {},
   "outputs": [],
   "source": [
    "###############################################################################\n",
    "# Looping on all volumes in a 4D file\n",
    "# -----------------------------------\n",
    "#\n",
    "# If we want to plot all the volumes in this 4D file, we can use iter_img\n",
    "# to loop on them.\n",
    "#\n",
    "# Then we give a few arguments to plot_stat_map in order to have a more\n",
    "# compact display.\n",
    "for img in image.iter_img(rsn):\n",
    "    # img is now an in-memory 3D img\n",
    "    plotting.plot_stat_map(img, threshold=3, display_mode=\"z\", cut_coords=1,\n",
    "                           colorbar=False)"
   ]
  },
  {
   "cell_type": "code",
   "execution_count": null,
   "metadata": {},
   "outputs": [],
   "source": [
    "###############################################################################\n",
    "# Looping through selected volumes in a 4D file\n",
    "# ---------------------------------------------\n",
    "#\n",
    "# If we want to plot selected volumes in this 4D file, we can use index_img\n",
    "# with the `slice` constructor to select the desired volumes. \n",
    "# \n",
    "# Afterwards, we'll use iter_img to loop through them following the same \n",
    "# formula as before.\n",
    "selected_volumes = image.index_img(rsn, slice(3, 5))"
   ]
  },
  {
   "cell_type": "code",
   "execution_count": null,
   "metadata": {},
   "outputs": [],
   "source": [
    "###############################################################################\n",
    "# If you're new to Python, one thing to note is that the slice constructor\n",
    "# uses 0-based indexing. You can confirm this by matching these slices\n",
    "# to the previous plot above.\n",
    "\n",
    "for img in image.iter_img(selected_volumes):\n",
    "    plotting.plot_stat_map(img)"
   ]
  },
  {
   "cell_type": "code",
   "execution_count": null,
   "metadata": {},
   "outputs": [],
   "source": [
    "###############################################################################\n",
    "# plotting.show is useful to force the display of figures when running\n",
    "# outside IPython\n",
    "plotting.show()"
   ]
  },
  {
   "cell_type": "code",
   "execution_count": null,
   "metadata": {},
   "outputs": [],
   "source": [
    "#########################################################################\n",
    "# |\n",
    "#\n",
    "# ______\n",
    "#\n",
    "# To recap, neuroimaging images (niimgs as we call them) come in\n",
    "# different flavors:\n",
    "#\n",
    "# * 3D images, containing only one brain volume\n",
    "# * 4D images, containing multiple brain volumes.\n",
    "#\n",
    "# More details about the input formats in nilearn for 3D and 4D images is\n",
    "# given in the documentation section: :ref:`loading_data`.\n",
    "#\n",
    "# Functions accept either 3D or 4D images, and we need to use on the one\n",
    "# hand :func:`nilearn.image.index_img` or :func:`nilearn.image.iter_img`\n",
    "# to break down 4D images into 3D images, and on the other hand\n",
    "# :func:`nilearn.image.concat_imgs` to group a list of 3D images into a 4D\n",
    "# image."
   ]
  }
 ],
 "metadata": {
  "kernelspec": {
   "display_name": "Python 3",
   "language": "python",
   "name": "python3"
  },
  "language_info": {
   "name": ""
  }
 },
 "nbformat": 4,
 "nbformat_minor": 4
}
