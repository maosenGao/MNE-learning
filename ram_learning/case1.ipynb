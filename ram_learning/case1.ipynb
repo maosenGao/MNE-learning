{
 "cells": [
  {
   "cell_type": "code",
   "execution_count": 1,
   "metadata": {},
   "outputs": [],
   "source": [
    "# # # 引入python库\n",
    "# import sys\n",
    "# sys.path.append(\"c:\\programdata\\\\anaconda3\\\\lib\\\\site-packages\")\n",
    "# print(sys.path)"
   ]
  },
  {
   "cell_type": "code",
   "execution_count": 2,
   "metadata": {},
   "outputs": [],
   "source": [
    "# #!python -m  pip install --upgrade pip --user\n",
    "# # !pip install -U mne\n",
    "# # !sudo pip install --upgrade nibabel \n",
    "# # !pip list\n",
    "# !python3 -m pip uninstall pip"
   ]
  },
  {
   "cell_type": "code",
   "execution_count": 5,
   "metadata": {},
   "outputs": [
    {
     "ename": "ModuleNotFoundError",
     "evalue": "No module named 'matplotlib'",
     "output_type": "error",
     "traceback": [
      "\u001b[1;31m---------------------------------------------------------------------------\u001b[0m",
      "\u001b[1;31mModuleNotFoundError\u001b[0m                       Traceback (most recent call last)",
      "\u001b[1;32m<ipython-input-5-dec861241f0f>\u001b[0m in \u001b[0;36m<module>\u001b[1;34m\u001b[0m\n\u001b[0;32m      1\u001b[0m \u001b[1;32mimport\u001b[0m \u001b[0mmne\u001b[0m\u001b[1;33m\u001b[0m\u001b[1;33m\u001b[0m\u001b[0m\n\u001b[0;32m      2\u001b[0m \u001b[1;32mimport\u001b[0m \u001b[0mnumpy\u001b[0m \u001b[1;32mas\u001b[0m \u001b[0mnp\u001b[0m\u001b[1;33m\u001b[0m\u001b[1;33m\u001b[0m\u001b[0m\n\u001b[1;32m----> 3\u001b[1;33m \u001b[1;32mimport\u001b[0m \u001b[0mmatplotlib\u001b[0m\u001b[1;33m.\u001b[0m\u001b[0mpyplot\u001b[0m \u001b[1;32mas\u001b[0m \u001b[0mplt\u001b[0m\u001b[1;33m\u001b[0m\u001b[1;33m\u001b[0m\u001b[0m\n\u001b[0m",
      "\u001b[1;31mModuleNotFoundError\u001b[0m: No module named 'matplotlib'"
     ]
    }
   ],
   "source": [
    "import mne\n",
    "import numpy as np\n",
    "import matplotlib.pyplot as plt"
   ]
  },
  {
   "cell_type": "code",
   "execution_count": null,
   "metadata": {},
   "outputs": [],
   "source": [
    "\"\"\"\n",
    "\n",
    "生成一个大小为5x1000的二维随机数据其中5代表5个通道，1000代表times\"\"\"\n",
    "data = np.random.randn(5, 1000)\n",
    "\"\"\"\n",
    "创建info结构\n",
    ",内容包括：\n",
    "通道名称和通道类型设置采样频率为:\n",
    "sfreq=100\n",
    "\n",
    "\"\"\"\n",
    "\n",
    "info = mne.create_info(\n",
    "    ch_names=['MEG1', 'MEG2', 'EEG1', 'EEG2', 'EOG'],\n",
    "    ch_types=['grad', 'grad', 'eeg', 'eeg', 'eog'],\n",
    "    sfreq=100)\n",
    "\n",
    "\"\"\"利用mne.io.RawArray类创建Raw对象\"\"\"\n",
    "\n",
    "custom_raw = mne.io.RawArray(data, info)\n",
    "print(custom_raw)\n",
    "\n",
    "\n",
    "\"\"\"\n",
    "\n",
    "对图形进行缩放\u000b",
    "对于实际的EEG / MEG数据，\n",
    "应使用不同的比例因子。\n",
    "对通道eeg、grad，eog的数据进行2倍缩小\n",
    "\n",
    "\"\"\""
   ]
  },
  {
   "cell_type": "code",
   "execution_count": null,
   "metadata": {},
   "outputs": [],
   "source": [
    "scalings = {'eeg': 2, 'grad': 2,'eog':2}\n",
    "custom_raw.plot(n_channels=5,\n",
    "                scalings=scalings, \n",
    "               title='Data from arrays', \n",
    "        show=True, block=True)\n",
    "plt.show()"
   ]
  },
  {
   "cell_type": "code",
   "execution_count": null,
   "metadata": {},
   "outputs": [],
   "source": []
  },
  {
   "cell_type": "code",
   "execution_count": null,
   "metadata": {},
   "outputs": [],
   "source": []
  }
 ],
 "metadata": {
  "file_extension": ".py",
  "kernelspec": {
   "display_name": "Python 3",
   "language": "python",
   "name": "python3"
  },
  "language_info": {
   "codemirror_mode": {
    "name": "ipython",
    "version": 3
   },
   "file_extension": ".py",
   "mimetype": "text/x-python",
   "name": "python",
   "nbconvert_exporter": "python",
   "pygments_lexer": "ipython3",
   "version": "3.7.5"
  },
  "mimetype": "text/x-python",
  "name": "python",
  "npconvert_exporter": "python",
  "pygments_lexer": "ipython3",
  "version": 3
 },
 "nbformat": 4,
 "nbformat_minor": 2
}
