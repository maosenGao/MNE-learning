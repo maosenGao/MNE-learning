{
 "cells": [
  {
   "cell_type": "code",
   "execution_count": 3,
   "metadata": {},
   "outputs": [
    {
     "name": "stdout",
     "output_type": "stream",
     "text": [
      "Looking in indexes: http://pypi.douban.com/simple\n",
      "Collecting neo\n",
      "  Downloading http://pypi.doubanio.com/packages/9c/4a/b4922f90db90c2b1a8c77fdc39a4a1ad15d386d1a167c1424405cab2eeaa/neo-0.8.0.tar.gz (2.1MB)\n"
     ]
    },
    {
     "name": "stderr",
     "output_type": "stream",
     "text": [
      "ERROR: Exception:\n",
      "Traceback (most recent call last):\n",
      "  File \"c:\\programdata\\anaconda3\\lib\\site-packages\\pip\\_vendor\\urllib3\\response.py\", line 425, in _error_catcher\n",
      "    yield\n",
      "  File \"c:\\programdata\\anaconda3\\lib\\site-packages\\pip\\_vendor\\urllib3\\response.py\", line 507, in read\n",
      "    data = self._fp.read(amt) if not fp_closed else b\"\"\n",
      "  File \"c:\\programdata\\anaconda3\\lib\\http\\client.py\", line 457, in read\n",
      "    n = self.readinto(b)\n",
      "  File \"c:\\programdata\\anaconda3\\lib\\http\\client.py\", line 501, in readinto\n",
      "    n = self.fp.readinto(b)\n",
      "  File \"c:\\programdata\\anaconda3\\lib\\socket.py\", line 589, in readinto\n",
      "    return self._sock.recv_into(b)\n",
      "socket.timeout: timed out\n",
      "\n",
      "During handling of the above exception, another exception occurred:\n",
      "\n",
      "Traceback (most recent call last):\n",
      "  File \"c:\\programdata\\anaconda3\\lib\\site-packages\\pip\\_internal\\cli\\base_command.py\", line 153, in _main\n",
      "    status = self.run(options, args)\n",
      "  File \"c:\\programdata\\anaconda3\\lib\\site-packages\\pip\\_internal\\commands\\install.py\", line 382, in run\n",
      "    resolver.resolve(requirement_set)\n",
      "  File \"c:\\programdata\\anaconda3\\lib\\site-packages\\pip\\_internal\\legacy_resolve.py\", line 201, in resolve\n",
      "    self._resolve_one(requirement_set, req)\n",
      "  File \"c:\\programdata\\anaconda3\\lib\\site-packages\\pip\\_internal\\legacy_resolve.py\", line 365, in _resolve_one\n",
      "    abstract_dist = self._get_abstract_dist_for(req_to_install)\n",
      "  File \"c:\\programdata\\anaconda3\\lib\\site-packages\\pip\\_internal\\legacy_resolve.py\", line 313, in _get_abstract_dist_for\n",
      "    req, self.session, self.finder, self.require_hashes\n",
      "  File \"c:\\programdata\\anaconda3\\lib\\site-packages\\pip\\_internal\\operations\\prepare.py\", line 194, in prepare_linked_requirement\n",
      "    progress_bar=self.progress_bar\n",
      "  File \"c:\\programdata\\anaconda3\\lib\\site-packages\\pip\\_internal\\download.py\", line 465, in unpack_url\n",
      "    progress_bar=progress_bar\n",
      "  File \"c:\\programdata\\anaconda3\\lib\\site-packages\\pip\\_internal\\download.py\", line 316, in unpack_http_url\n",
      "    progress_bar)\n",
      "  File \"c:\\programdata\\anaconda3\\lib\\site-packages\\pip\\_internal\\download.py\", line 551, in _download_http_url\n",
      "    _download_url(resp, link, content_file, hashes, progress_bar)\n",
      "  File \"c:\\programdata\\anaconda3\\lib\\site-packages\\pip\\_internal\\download.py\", line 253, in _download_url\n",
      "    hashes.check_against_chunks(downloaded_chunks)\n",
      "  File \"c:\\programdata\\anaconda3\\lib\\site-packages\\pip\\_internal\\utils\\hashes.py\", line 80, in check_against_chunks\n",
      "    for chunk in chunks:\n",
      "  File \"c:\\programdata\\anaconda3\\lib\\site-packages\\pip\\_internal\\download.py\", line 223, in written_chunks\n",
      "    for chunk in chunks:\n",
      "  File \"c:\\programdata\\anaconda3\\lib\\site-packages\\pip\\_internal\\utils\\ui.py\", line 160, in iter\n",
      "    for x in it:\n",
      "  File \"c:\\programdata\\anaconda3\\lib\\site-packages\\pip\\_internal\\download.py\", line 212, in resp_read\n",
      "    decode_content=False):\n",
      "  File \"c:\\programdata\\anaconda3\\lib\\site-packages\\pip\\_vendor\\urllib3\\response.py\", line 564, in stream\n",
      "    data = self.read(amt=amt, decode_content=decode_content)\n",
      "  File \"c:\\programdata\\anaconda3\\lib\\site-packages\\pip\\_vendor\\urllib3\\response.py\", line 529, in read\n",
      "    raise IncompleteRead(self._fp_bytes_read, self.length_remaining)\n",
      "  File \"c:\\programdata\\anaconda3\\lib\\contextlib.py\", line 130, in __exit__\n",
      "    self.gen.throw(type, value, traceback)\n",
      "  File \"c:\\programdata\\anaconda3\\lib\\site-packages\\pip\\_vendor\\urllib3\\response.py\", line 430, in _error_catcher\n",
      "    raise ReadTimeoutError(self._pool, None, \"Read timed out.\")\n",
      "pip._vendor.urllib3.exceptions.ReadTimeoutError: HTTPConnectionPool(host='pypi.doubanio.com', port=80): Read timed out.\n"
     ]
    }
   ],
   "source": [
    "!pip install neo\n",
    "\n",
    "# 目前neo无法安装\n",
    "# 已安装成功"
   ]
  },
  {
   "cell_type": "code",
   "execution_count": 1,
   "metadata": {},
   "outputs": [],
   "source": [
    "import numpy as np\n",
    "import neo \n",
    "import mne\n",
    "import matplotlib.pyplot as plt\n",
    "# 构建正余弦数据模拟mag,grad信号\n",
    "# 其中采样频率为1000Hz,时间为0到10s.\n"
   ]
  },
  {
   "cell_type": "code",
   "execution_count": null,
   "metadata": {},
   "outputs": [],
   "source": []
  }
 ],
 "metadata": {
  "kernelspec": {
   "display_name": "Python 3",
   "language": "python",
   "name": "python3"
  },
  "language_info": {
   "codemirror_mode": {
    "name": "ipython",
    "version": 3
   },
   "file_extension": ".py",
   "mimetype": "text/x-python",
   "name": "python",
   "nbconvert_exporter": "python",
   "pygments_lexer": "ipython3",
   "version": "3.7.4"
  }
 },
 "nbformat": 4,
 "nbformat_minor": 2
}
