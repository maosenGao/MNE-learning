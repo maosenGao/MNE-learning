{
 "cells": [
  {
   "cell_type": "code",
   "execution_count": 1,
   "metadata": {},
   "outputs": [],
   "source": [
    "# !pip install sklearn"
   ]
  },
  {
   "cell_type": "markdown",
   "metadata": {},
   "source": [
    "# 案例介绍：<br>\n",
    "本案例通过对多导睡眠图（Polysomnography,PSG）数据进行睡眠阶段的分类来判断睡眠类型。<br>\n",
    "训练：对Alice的睡眠数据进行训练；<br>\n",
    "测试：利用训练结果对Bob的睡眠数据进行测试，判断其睡眠类型。<br>\n",
    "在分析之前，先简单介绍一下多导睡眠图<br>\n",
    "多导睡眠图（Polysomnography,PSG）又称睡眠脑电图。<br>\n",
    "主要用于睡眠和梦境研究以及抑郁症和睡眠呼吸暂停综合征的诊断。<br>\n",
    "多导睡眠图是通过不同部位的生物电或通过不同传感获得生物讯号，经前置放大，输出为不同的电讯号，记录出不同的图形以供分析。<br>\n",
    "<br>\n",
    "##  数据集介绍：<br>\n",
    "本案例用的数据是来自于PhysioNet上关于健康受试者的年龄对睡眠影响研究的公开数据集的一个子集。<br>\n",
    "mne.datasets.sleep_physionet.age.fetch_data可以下载PhysioNet数据集的子数据集。<br>\n",
    "该子数据集中包含20位受试者的实验数据，记录当时年龄为25-34岁的10位男性和10位女性的实验数据。<br>\n",
    "由于受试者13的第二个记录遗失了，所以除了受试者13以外，每个受试者都有两次夜间记录。<br>\n",
    "\n",
    "Sleep Physionet数据集使用8个标签进行标注，代表8各阶段：<br>\n",
    "Wake (W),<br>\n",
    "Stage 1,<br>\n",
    "Stage 2,<br>\n",
    "Stage 3,<br>\n",
    "Stage 4,<br>\n",
    "REM(R),<br>\n",
    "Movement time(M),<br>\n",
    "Stage(?). Stage(?)-(not scored)  <br>\n",
    "唤醒-Wake(W)、第1阶段、第2阶段、第3阶段、第4阶段、对应于从轻度睡眠到深度睡眠的范围；<br>\n",
    "REM睡眠（R），其中REM是Rapid Eye的缩写，表示快速眼运动睡眠，运动（M）和阶段(?)的任何未得分部分。<br>"
   ]
  },
  {
   "cell_type": "markdown",
   "metadata": {},
   "source": [
    "# 第一步：导入工具库"
   ]
  },
  {
   "cell_type": "code",
   "execution_count": 2,
   "metadata": {},
   "outputs": [
    {
     "name": "stderr",
     "output_type": "stream",
     "text": [
      "D:\\vs17\\Anaconda3_64\\lib\\site-packages\\sklearn\\ensemble\\weight_boosting.py:29: DeprecationWarning: numpy.core.umath_tests is an internal NumPy module and should not be imported. It will be removed in a future NumPy release.\n",
      "  from numpy.core.umath_tests import inner1d\n"
     ]
    },
    {
     "data": {
      "text/plain": [
       "['',\n",
       " 'D:\\\\vs17\\\\Anaconda3_64\\\\python36.zip',\n",
       " 'D:\\\\vs17\\\\Anaconda3_64\\\\DLLs',\n",
       " 'D:\\\\vs17\\\\Anaconda3_64\\\\lib',\n",
       " 'D:\\\\vs17\\\\Anaconda3_64',\n",
       " 'C:\\\\Users\\\\zx305\\\\AppData\\\\Roaming\\\\Python\\\\Python36\\\\site-packages',\n",
       " 'D:\\\\vs17\\\\Anaconda3_64\\\\lib\\\\site-packages',\n",
       " 'D:\\\\vs17\\\\Anaconda3_64\\\\lib\\\\site-packages\\\\win32',\n",
       " 'D:\\\\vs17\\\\Anaconda3_64\\\\lib\\\\site-packages\\\\win32\\\\lib',\n",
       " 'D:\\\\vs17\\\\Anaconda3_64\\\\lib\\\\site-packages\\\\Pythonwin',\n",
       " 'D:\\\\vs17\\\\Anaconda3_64\\\\lib\\\\site-packages\\\\IPython\\\\extensions',\n",
       " 'C:\\\\Users\\\\zx305\\\\.ipython']"
      ]
     },
     "execution_count": 2,
     "metadata": {},
     "output_type": "execute_result"
    }
   ],
   "source": [
    "import numpy as np\n",
    "import matplotlib.pyplot as plt\n",
    "import mne\n",
    "from mne.datasets.sleep_physionet.age import fetch_data\n",
    "from mne.time_frequency import psd_welch \n",
    "\n",
    "# 笔记本上mne的位置：D:\\anacon\\envs\\python27\\Lib\\site-packages\\mne\n",
    "\n",
    "# import sklearn\n",
    "\n",
    "from sklearn.ensemble import RandomForestClassifier\n",
    "from sklearn.metrics import accuracy_score\n",
    "from sklearn.metrics import confusion_matrix\n",
    "from sklearn.metrics import classification_report\n",
    "from sklearn.pipeline import make_pipeline\n",
    "from sklearn.preprocessing import FunctionTransformer\n",
    "# !pip install numpy\n",
    "\n",
    "import sys\n",
    "sys.path"
   ]
  },
  {
   "cell_type": "markdown",
   "metadata": {},
   "source": [
    "\n",
    "# 第二步：加载数据\n",
    "在这里，我们从两个主题下载数据，最终目标是获得时间片段(epochs)及其相关的地面真理。\n",
    "\n",
    " MNE-Python为我们提供了mne.datasets.sleep_physionet.age.fetch_data()，\n",
    "可以方便地从Sleep Physionet数据集下载数据。  \n",
    "给定主题和记录的列表，提取程序将下载数据并为每个主题提供数据， 一对文件：\n",
    "-PSG.edf包含多导睡眠图。来自EEG头盔的原始数据，\n",
    "-Hypnogram.edf包含专家记录的注释。\n",
    "\n",
    "然后，将这两个对象合并到mne.io.Raw对象中，就可以根据注释的描述提取事件以获得时间片段(epochs)。"
   ]
  },
  {
   "cell_type": "code",
   "execution_count": 3,
   "metadata": {},
   "outputs": [
    {
     "data": {
      "text/plain": [
       "'\\n\\n可以通过\\nmne.datasets.sleep_physionet.age.fetch_data(subjects,recording,path)\\n来获取PhysioNet多导睡眠图数据集文件。\\n\\nsubjects：  \\n表示想要使用哪些受试者对象，可供选择的受试者对象范围为0-19。\\n\\nrecording：  \\n表示夜间记录的编号(索引)，有效值为：[1]、[2]或[1、2]。\\n\\npath:  \\nPhysioNet数据的存放地址，如果没有给定，则加载默认存放数据的地址；\\n\\n如果默认存放数据集的地址不存在数据，则从网络中下载相关数据。  \\n【困惑】怎么知道默认网络链接的\\n\\n现在还是这个问题\\n\\n'"
      ]
     },
     "execution_count": 3,
     "metadata": {},
     "output_type": "execute_result"
    }
   ],
   "source": [
    "\"\"\"\n",
    "\n",
    "可以通过\n",
    "mne.datasets.sleep_physionet.age.fetch_data(subjects,recording,path)\n",
    "来获取PhysioNet多导睡眠图数据集文件。\n",
    "\n",
    "subjects：  \n",
    "表示想要使用哪些受试者对象，可供选择的受试者对象范围为0-19。\n",
    "\n",
    "recording：  \n",
    "表示夜间记录的编号(索引)，有效值为：[1]、[2]或[1、2]。\n",
    "\n",
    "path:  \n",
    "PhysioNet数据的存放地址，如果没有给定，则加载默认存放数据的地址；\n",
    "\n",
    "如果默认存放数据集的地址不存在数据，则从网络中下载相关数据。  \n",
    "【困惑】怎么知道默认网络链接的\n",
    "\n",
    "现在还是这个问题\n",
    "\n",
    "\"\"\""
   ]
  },
  {
   "cell_type": "code",
   "execution_count": 10,
   "metadata": {
    "scrolled": false
   },
   "outputs": [
    {
     "ename": "SyntaxError",
     "evalue": "positional argument follows keyword argument (<ipython-input-10-c65537ca5143>, line 13)",
     "output_type": "error",
     "traceback": [
      "\u001b[1;36m  File \u001b[1;32m\"<ipython-input-10-c65537ca5143>\"\u001b[1;36m, line \u001b[1;32m13\u001b[0m\n\u001b[1;33m    'E:\\\\mne_data\\\\physionet-sleep-data'\u001b[0m\n\u001b[1;37m    ^\u001b[0m\n\u001b[1;31mSyntaxError\u001b[0m\u001b[1;31m:\u001b[0m positional argument follows keyword argument\n"
     ]
    }
   ],
   "source": [
    "# 选择两个受试者实验对象ALICE, BOB(该名字并非实验中的真实名，这里是为了方便才临时取的名字)\n",
    "\n",
    "ALICE, BOB = 0, 1 #【python学习】可以这么赋值\n",
    "\n",
    "# 加载ALICE, BOB的实验数据文件\n",
    "\n",
    "[alice_files, bob_files] = fetch_data(subjects=[ALICE, BOB], \n",
    "                                      recording=[2],\n",
    "#                                       'E:\\\\mne_data\\\\physionet-sleep-data'\n",
    "                                     )\n",
    "# [alice_files, bob_files] = mne.datasets.sleep_physionet.age.fetch_data(subjects=[ALICE, BOB], \n",
    "#                                       recording=[2],\n",
    "#                                       'E:\\\\mne_data\\\\physionet-sleep-data'\n",
    "#                                      )"
   ]
  },
  {
   "cell_type": "code",
   "execution_count": 11,
   "metadata": {},
   "outputs": [
    {
     "ename": "NameError",
     "evalue": "name 'alice_files' is not defined",
     "output_type": "error",
     "traceback": [
      "\u001b[1;31m---------------------------------------------------------------------------\u001b[0m",
      "\u001b[1;31mNameError\u001b[0m                                 Traceback (most recent call last)",
      "\u001b[1;32m<ipython-input-11-eb88d2a30713>\u001b[0m in \u001b[0;36m<module>\u001b[1;34m()\u001b[0m\n\u001b[0;32m      9\u001b[0m \u001b[1;31m#读取ALICE的edf文件，和其对应的注释文件\u001b[0m\u001b[1;33m\u001b[0m\u001b[1;33m\u001b[0m\u001b[0m\n\u001b[0;32m     10\u001b[0m \u001b[1;33m\u001b[0m\u001b[0m\n\u001b[1;32m---> 11\u001b[1;33m \u001b[0mraw_train\u001b[0m \u001b[1;33m=\u001b[0m \u001b[0mmne\u001b[0m\u001b[1;33m.\u001b[0m\u001b[0mio\u001b[0m\u001b[1;33m.\u001b[0m\u001b[0mread_raw_edf\u001b[0m\u001b[1;33m(\u001b[0m\u001b[0malice_files\u001b[0m\u001b[1;33m[\u001b[0m\u001b[1;36m0\u001b[0m\u001b[1;33m]\u001b[0m\u001b[1;33m)\u001b[0m\u001b[1;33m\u001b[0m\u001b[0m\n\u001b[0m\u001b[0;32m     12\u001b[0m \u001b[1;33m\u001b[0m\u001b[0m\n\u001b[0;32m     13\u001b[0m \u001b[0mannot_train\u001b[0m \u001b[1;33m=\u001b[0m \u001b[0mmne\u001b[0m\u001b[1;33m.\u001b[0m\u001b[0mread_annotations\u001b[0m\u001b[1;33m(\u001b[0m\u001b[0malice_files\u001b[0m\u001b[1;33m[\u001b[0m\u001b[1;36m1\u001b[0m\u001b[1;33m]\u001b[0m\u001b[1;33m)\u001b[0m\u001b[1;33m\u001b[0m\u001b[0m\n",
      "\u001b[1;31mNameError\u001b[0m: name 'alice_files' is not defined"
     ]
    }
   ],
   "source": [
    "# 通道名称映射\n",
    "\n",
    "mapping = {'EOG horizontal': 'eog',\n",
    "           'Resp oro-nasal': 'misc', \n",
    "          'EMG submental': 'misc', \n",
    "          'Temp rectal': 'misc', \n",
    "          'Event marker': 'misc'}\n",
    "\n",
    "#读取ALICE的edf文件，和其对应的注释文件\n",
    "\n",
    "raw_train = mne.io.read_raw_edf(alice_files[0])\n",
    "\n",
    "annot_train = mne.read_annotations(alice_files[1])\n",
    "\n",
    "raw_train.set_annotations(annot_train, emit_warning=False)\n",
    "\n",
    "raw_train.set_channel_types(mapping)\n",
    "\n",
    "# 绘制空0s开始，时间窗口长度为40s的连续通道数据波形图\n",
    "raw_train.plot(duration=40,\n",
    "               scalings='auto')\n",
    "plt.show()"
   ]
  },
  {
   "cell_type": "code",
   "execution_count": null,
   "metadata": {},
   "outputs": [],
   "source": [
    "[alice_files, bob_files] = fetch_data(subjects=[ALICE, BOB], recording=[1])\n",
    "\n",
    "# 通道名称映射\n",
    "\n",
    "mapping = {'EOG horizontal': 'eog',\n",
    "           'Resp oro-nasal': 'misc', \n",
    "          'EMG submental': 'misc', \n",
    "          'Temp rectal': 'misc', \n",
    "          'Event marker': 'misc'}\n",
    "\n",
    "#读取ALICE的edf文件，和其对应的注释文件\n",
    "raw_train = mne.io.read_raw_edf(alice_files[0])\n",
    "annot_train = mne.read_annotations(alice_files[1])\n",
    "raw_train.set_annotations(annot_train,\n",
    "                          emit_warning=False)\n",
    "raw_train.set_channel_types(mapping)\n",
    "\n",
    "# 绘制空0s开始，时间窗口长度为40s的连续通道数据波形图\n",
    "\n",
    "raw_train.plot(duration=40, \n",
    "               scalings='auto')\n",
    "plt.show()"
   ]
  },
  {
   "cell_type": "code",
   "execution_count": null,
   "metadata": {},
   "outputs": [],
   "source": [
    "# 这里仅使用5个阶段：唤醒（W），阶段1，阶段2，阶段3/4和REM睡眠(R)。 \n",
    "# 为此，这里使用mne.events_from_annotations()中的event_id参数来选择我们感兴趣的事件，\n",
    "# 并将事件标识符与每个事件相关联。\n",
    "\n",
    "\n",
    "\"\"\"睡眠表示与事件映射\"\"\"\n",
    "\n",
    "annotation_desc_2_event_id = {'Sleep stage W': 1, \n",
    "                             'Sleep stage 1': 2, \n",
    "                             'Sleep stage 2': 3, \n",
    "                             'Sleep stage 3': 4, \n",
    "                             'Sleep stage 4': 4, \n",
    "                             'Sleep stage R': 5}\n",
    "\n",
    "events_train, _ = mne.events_from_annotations(raw_train,\n",
    "                                              event_id=annotation_desc_2_event_id,\n",
    "                                              chunk_duration=30.)\n",
    "\n",
    "# 创建一个新的event_id以统一 阶段3和4\n",
    "event_id = {'Sleep stage W': 1,\n",
    "            'Sleep stage 1': 2, \n",
    "           'Sleep stage 2': 3,   \n",
    "         'Sleep stage 3/4': 4, \n",
    "           'Sleep stage R': 5}\n",
    "\n",
    "# 绘制事件数据\n",
    "mne.viz.plot_events(events_train,\n",
    "                    event_id=event_id,\n",
    "                    sfreq=raw_train.info['sfreq'])\n",
    "\n",
    "# 保留颜色代码以便进一步绘制\n",
    "stage_colors = plt.rcParams['axes.prop_cycle'].by_key()['color']\n"
   ]
  },
  {
   "cell_type": "code",
   "execution_count": null,
   "metadata": {},
   "outputs": [],
   "source": [
    "# 根据注释中的事件从数据创建epochs(时间片段)\n",
    "\n",
    "\n",
    "tmax = 30. - 1. / raw_train.info['sfreq']  \n",
    "# tmax in included\n",
    "\n",
    "\"\"\"\n",
    "所创建的是时间从tmin=0开始，到tmax为止的epochs\n",
    "\"\"\"\n",
    "epochs_train = mne.Epochs(raw=raw_train, \n",
    "                          events=events_train, \n",
    "                         event_id=event_id,\n",
    "                          tmin=0.,\n",
    "                          tmax=tmax, \n",
    "                          baseline=None)\n",
    "print(epochs_train)\n"
   ]
  },
  {
   "cell_type": "markdown",
   "metadata": {},
   "source": [
    "# 第三步：加载Bob的数据作为测试数据\n",
    "按照上述相同的步骤来获取Bob的测试数据"
   ]
  },
  {
   "cell_type": "code",
   "execution_count": null,
   "metadata": {},
   "outputs": [],
   "source": [
    "raw_test = mne.io.read_raw_edf(bob_files[0])\n",
    "\n",
    "annot_test = mne.read_annotations(bob_files[1])\n",
    "\n",
    "raw_test.set_annotations(annot_test,\n",
    "                         emit_warning=False)\n",
    "\n",
    "raw_test.set_channel_types(mapping)\n",
    "\n",
    "events_test, _ = mne.events_from_annotations(raw_test,\n",
    "                                             event_id=annotation_desc_2_event_id,\n",
    "                                             chunk_duration=30.)\n",
    "\n",
    "epochs_test = mne.Epochs(raw=raw_test,\n",
    "                         events=events_test,\n",
    "                         event_id=event_id, \n",
    "                        tmin=0.,\n",
    "                         tmax=tmax,\n",
    "                         baseline=None)\n",
    "\n",
    "print(epochs_test)"
   ]
  },
  {
   "cell_type": "markdown",
   "metadata": {},
   "source": [
    "## 特征工程\n",
    "\n",
    " 观察不同睡眠阶段的功率谱密度(PSD)图，可以看到不同睡眠阶段具有不同的特征。\n",
    " 这些签名在Alice和Bob的数据中保持相似。\n",
    "\n",
    " 在本节的其余部分中，将基于特定频带中的相对功率来创建EEG特征，以捕获数据中睡眠阶段之间的差异。"
   ]
  },
  {
   "cell_type": "code",
   "execution_count": null,
   "metadata": {},
   "outputs": [],
   "source": [
    "fig, (ax1, ax2) = plt.subplots(ncols=2)\n",
    "# iterate over the subjects\n",
    "stages = sorted(event_id.keys())\n",
    "for ax, title, epochs in zip([ax1, ax2], \n",
    "                            ['Alice', 'Bob'], \n",
    "                            [epochs_train, epochs_test]):\n",
    "    \n",
    "    for stage, color in zip(stages,\n",
    "                            stage_colors): \n",
    "        \n",
    "        epochs[stage].plot_psd(area_mode=None, # 【信号处理学习】psd 功率谱密度\n",
    "                               color=color, ax=ax,\n",
    "                               fmin=0.1, \n",
    "                               fmax=20.,\n",
    "                               show=False, \n",
    "                               average=True,\n",
    "                               spatial_colors=False)\n",
    "        \n",
    "ax.set(title=title, \n",
    "       xlabel='Frequency (Hz)')\n",
    "\n",
    "ax2.set(ylabel='uV^2/hz (dB)')\n",
    "\n",
    "ax2.legend(ax2.lines[2::3],\n",
    "           stages)\n",
    "\n",
    "plt.tight_layout()\n",
    "plt.show()"
   ]
  },
  {
   "cell_type": "markdown",
   "metadata": {},
   "source": [
    "# 第四步：设计scikit-learn 转换器\n",
    " 创建一个函数，根据特定频带中的相对功率提取脑电图特征，从而能够根据脑电图信号预测睡眠阶段。"
   ]
  },
  {
   "cell_type": "code",
   "execution_count": null,
   "metadata": {},
   "outputs": [],
   "source": [
    "\"\"\"\n",
    "脑电相对功率带特征提取\n",
    "该函数接受一个\"\"mne.Epochs\"对象，\n",
    "并基于与scikit-learn兼容的特定频带中的相对功率创建EEG特征。\n",
    "Parameters    ----------    epochs : Epochs\n",
    "The data.\n",
    "Returns    -------    X : numpy array of shape\n",
    "[n_samples, 5]        Transformed data.    \n",
    "\"\"\"\n",
    "def eeg_power_band(epochs):\n",
    "\n",
    "    # 特定频带\n",
    "    FREQ_BANDS = {\"delta\": [0.5, 4.5],\n",
    "                  \"theta\": [4.5, 8.5],\n",
    "                  \"alpha\": [8.5, 11.5],\n",
    "                  \"sigma\": [11.5, 15.5],\n",
    "                  \"beta\": [15.5, 30]}\n",
    "    psds, freqs = psd_welch(epochs, picks='eeg', fmin=0.5, fmax=30.)   \n",
    " # 归一化 PSDs\n",
    "    psds /= np.sum(psds,\n",
    "                   axis=-1,\n",
    "                   keepdims=True)\n",
    "    X = []\n",
    "    for fmin, fmax in FREQ_BANDS.values():\n",
    "        psds_band = psds[:, :, (freqs >= fmin) & (freqs < fmax)].mean(axis=-1)\n",
    "        X.append(psds_band.reshape(len(psds), -1))\n",
    "        return np.concatenate(X, axis=1)"
   ]
  },
  {
   "cell_type": "markdown",
   "metadata": {},
   "source": [
    "# 第五步：根据 Alice的数据来预测Bob的睡眠阶段 \n",
    "\n",
    " 使用scikit-learn进行多分类\n",
    " \n",
    " 下面展示了解决如何从爱丽丝的数据中预测鲍勃的睡眠阶段并尽可能避免重复样板代码的问题。\n",
    " \n",
    " 这里将利用sckit-learn的Pipeline和FunctionTransformer。\n",
    " \n",
    "\n",
    "  扩展：[Pipeline可以将许多算法模型串联起来，\n",
    "  \n",
    " 可以用于把多个estamitors级联成一个estamitor,\n",
    " \n",
    " 比如将特征提取、归一化、分类组织在一起形成一个典型的机器学习问题工作流。\n",
    " \n",
    " FunctionTransformer将python函数转换为与estamitor兼容的对象。]\n",
    " "
   ]
  },
  {
   "cell_type": "code",
   "execution_count": null,
   "metadata": {},
   "outputs": [],
   "source": [
    "pipe = make_pipeline(\n",
    "                    FunctionTransformer(eeg_power_band,\n",
    "                                         validate=False),\n",
    "                     RandomForestClassifier(n_estimators=100,\n",
    "                                            random_state=42)\n",
    "                    )\n",
    "# 训练\n",
    "y_train = epochs_train.events[:, 2]\n",
    "pipe.fit(epochs_train, y_train)\n",
    "# 预测\n",
    "y_pred = pipe.predict(epochs_test)\n",
    "# 评估准确率\n",
    "y_test = epochs_test.events[:, 2]\n",
    "acc = accuracy_score(y_test, y_pred)\n",
    "print(\"Accuracy score: {}\".format(acc))"
   ]
  },
  {
   "cell_type": "code",
   "execution_count": null,
   "metadata": {},
   "outputs": [],
   "source": [
    "# 案例上的结果是84.7 为什么这边小下去了？"
   ]
  },
  {
   "cell_type": "code",
   "execution_count": null,
   "metadata": {},
   "outputs": [],
   "source": [
    "# 预测的准确精度为84.7%\n",
    "# 查看分类报告做进一步分析\n",
    "# \t• \n",
    "print(classification_report(y_test, \n",
    "                            y_pred,\n",
    "                            target_names=event_id.keys()))\n"
   ]
  },
  {
   "cell_type": "code",
   "execution_count": null,
   "metadata": {},
   "outputs": [],
   "source": [
    "# 从分类报告中可以看出，\n",
    "\n",
    "# Bob的每个阶段训练测试样本，以及对应的睡眠阶段的精度。\n",
    "# 比如W阶段的精度为86%,测试样本为1856。测试总样本为2802。\n",
    "# 也可以看到其他一些指标比如召回率和F1值。这些指标的含义以后介绍。"
   ]
  },
  {
   "cell_type": "code",
   "execution_count": null,
   "metadata": {},
   "outputs": [],
   "source": [
    "!conda install -c conda-forge nodejs"
   ]
  },
  {
   "cell_type": "code",
   "execution_count": null,
   "metadata": {},
   "outputs": [],
   "source": []
  }
 ],
 "metadata": {
  "kernelspec": {
   "display_name": "Python 3",
   "language": "python",
   "name": "python3"
  },
  "language_info": {
   "codemirror_mode": {
    "name": "ipython",
    "version": 3
   },
   "file_extension": ".py",
   "mimetype": "text/x-python",
   "name": "python",
   "nbconvert_exporter": "python",
   "pygments_lexer": "ipython3",
   "version": "3.6.5"
  }
 },
 "nbformat": 4,
 "nbformat_minor": 4
}
