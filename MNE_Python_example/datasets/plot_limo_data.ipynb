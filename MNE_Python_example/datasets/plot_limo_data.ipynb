{
 "cells": [
  {
   "cell_type": "code",
   "execution_count": 1,
   "metadata": {},
   "outputs": [
    {
     "data": {
      "text/plain": [
       "'\\n========================================================\\nImport single subject from LIMO data set into MNE-Python\\n========================================================\\n\\nHere we a define function to extract the eeg signal data\\nfrom the LIMO structures in the LIMO dataset, see [1]_, [2]_, and:\\n\\n    https://datashare.is.ed.ac.uk/handle/10283/2189?show=full\\n\\n    https://github.com/LIMO-EEG-Toolbox\\n\\nThe code allows to:\\n\\nFetch single subjects epochs data for the LIMO data set.\\nEpochs information (i.e., sampling rate, number of epochs per condition,\\nnumber and name of EEG channels per subject, etc.) is extracted from\\nthe LIMO .mat files stored on disk.\\nIf files are not found, the function mne.datasets.limo.load_data() will\\nautomatically download the data from a remote repository.\\n\\n:func:`mne.datasets.limo.load_data` creates a custom info and\\nepochs structure in MNE-Python.\\nMissing channels can be interpolated if desired.\\n\\n\\nReferences\\n----------\\n.. [1] Guillaume, Rousselet. (2016). LIMO EEG Dataset, [dataset].\\n       University of Edinburgh, Centre for Clinical Brain Sciences.\\n       https://doi.org/10.7488/ds/1556.\\n.. [2] Rousselet, G. A., Gaspar, C. M., Pernet, C. R., Husk, J. S.,\\n       Bennett, P. J., & Sekuler, A. B. (2010). Healthy aging delays scalp EEG\\n       sensitivity to noise in a face discrimination task.\\n       Frontiers in psychology, 1, 19. https://doi.org/10.3389/fpsyg.2010.00019\\n'"
      ]
     },
     "execution_count": 1,
     "metadata": {},
     "output_type": "execute_result"
    }
   ],
   "source": [
    "\"\"\"\n",
    "========================================================\n",
    "Import single subject from LIMO data set into MNE-Python\n",
    "从LIMO数据集中导入单个主题到MNE-Python中\n",
    "========================================================\n",
    "\n",
    "Here we a define function to extract the eeg signal data\n",
    "from the LIMO structures in the LIMO dataset, see [1]_, [2]_, and:\n",
    "这里我们定义一个函数，从LIMO数据集中的LIMO结构中提取eeg信号数据，见[1][2]-，:\n",
    "\n",
    "    https://datashare.is.ed.ac.uk/handle/10283/2189?show=full\n",
    "\n",
    "    https://github.com/LIMO-EEG-Toolbox\n",
    "\n",
    "The code allows to:\n",
    "\n",
    "Fetch single subjects epochs data for the LIMO data set.\n",
    "Epochs information (i.e., sampling rate, number of epochs per condition,\n",
    "number and name of EEG channels per subject, etc.) is extracted from\n",
    "the LIMO .mat files stored on disk.\n",
    "If files are not found, the function mne.datasets.limo.load_data() will\n",
    "automatically download the data from a remote repository.\n",
    "\n",
    ":func:`mne.datasets.limo.load_data` creates a custom info and\n",
    "epochs structure in MNE-Python.\n",
    "Missing channels can be interpolated if desired.\n",
    "\n",
    "\n",
    "References\n",
    "----------\n",
    ".. [1] Guillaume, Rousselet. (2016). LIMO EEG Dataset, [dataset].\n",
    "       University of Edinburgh, Centre for Clinical Brain Sciences.\n",
    "       https://doi.org/10.7488/ds/1556.\n",
    ".. [2] Rousselet, G. A., Gaspar, C. M., Pernet, C. R., Husk, J. S.,\n",
    "       Bennett, P. J., & Sekuler, A. B. (2010). Healthy aging delays scalp EEG\n",
    "       sensitivity to noise in a face discrimination task.\n",
    "       Frontiers in psychology, 1, 19. https://doi.org/10.3389/fpsyg.2010.00019\n",
    "\"\"\""
   ]
  },
  {
   "cell_type": "code",
   "execution_count": 2,
   "metadata": {},
   "outputs": [],
   "source": [
    "# Authors: Jose C. Garcia Alanis <alanis.jcg@gmail.com>\n",
    "#\n",
    "# License: BSD (3-clause)\n",
    "\n",
    "import numpy as np\n",
    "import matplotlib.pyplot as plt\n",
    "\n",
    "import mne\n",
    "from mne.datasets import limo\n",
    "from mne.stats import linear_regression"
   ]
  },
  {
   "cell_type": "code",
   "execution_count": 3,
   "metadata": {},
   "outputs": [
    {
     "name": "stdout",
     "output_type": "stream",
     "text": [
      "Automatically created module for IPython interactive environment\n",
      "Using default location ~/mne_data for LIMO...\n",
      "Error while fetching file https://files.de-1.osf.io/v1/resources/52rea/providers/osfstorage/5cde825e23fec40017e0561a\\?zip=. Dataset fetching aborted.\n"
     ]
    },
    {
     "ename": "HTTPError",
     "evalue": "HTTP Error 404: Not Found",
     "output_type": "error",
     "traceback": [
      "\u001b[1;31m---------------------------------------------------------------------------\u001b[0m",
      "\u001b[1;31mHTTPError\u001b[0m                                 Traceback (most recent call last)",
      "\u001b[1;32m<ipython-input-3-dbe466ac66ad>\u001b[0m in \u001b[0;36m<module>\u001b[1;34m\u001b[0m\n\u001b[0;32m      2\u001b[0m \u001b[1;33m\u001b[0m\u001b[0m\n\u001b[0;32m      3\u001b[0m \u001b[1;31m# fetch data from subject 2 and interpolate missing channels\u001b[0m\u001b[1;33m\u001b[0m\u001b[1;33m\u001b[0m\u001b[1;33m\u001b[0m\u001b[0m\n\u001b[1;32m----> 4\u001b[1;33m \u001b[0mlimo_epochs\u001b[0m \u001b[1;33m=\u001b[0m \u001b[0mlimo\u001b[0m\u001b[1;33m.\u001b[0m\u001b[0mload_data\u001b[0m\u001b[1;33m(\u001b[0m\u001b[0msubject\u001b[0m\u001b[1;33m=\u001b[0m\u001b[1;36m2\u001b[0m\u001b[1;33m)\u001b[0m\u001b[1;33m\u001b[0m\u001b[1;33m\u001b[0m\u001b[0m\n\u001b[0m",
      "\u001b[1;32m<C:\\ProgramData\\Anaconda3\\lib\\site-packages\\mne\\externals\\decorator.py:decorator-gen-365>\u001b[0m in \u001b[0;36mload_data\u001b[1;34m(subject, path, force_update, update_path, verbose)\u001b[0m\n",
      "\u001b[1;32mC:\\ProgramData\\Anaconda3\\lib\\site-packages\\mne\\utils\\_logging.py\u001b[0m in \u001b[0;36mwrapper\u001b[1;34m(*args, **kwargs)\u001b[0m\n\u001b[0;32m     88\u001b[0m             \u001b[1;32mwith\u001b[0m \u001b[0muse_log_level\u001b[0m\u001b[1;33m(\u001b[0m\u001b[0mverbose_level\u001b[0m\u001b[1;33m)\u001b[0m\u001b[1;33m:\u001b[0m\u001b[1;33m\u001b[0m\u001b[1;33m\u001b[0m\u001b[0m\n\u001b[0;32m     89\u001b[0m                 \u001b[1;32mreturn\u001b[0m \u001b[0mfunction\u001b[0m\u001b[1;33m(\u001b[0m\u001b[1;33m*\u001b[0m\u001b[0margs\u001b[0m\u001b[1;33m,\u001b[0m \u001b[1;33m**\u001b[0m\u001b[0mkwargs\u001b[0m\u001b[1;33m)\u001b[0m\u001b[1;33m\u001b[0m\u001b[1;33m\u001b[0m\u001b[0m\n\u001b[1;32m---> 90\u001b[1;33m         \u001b[1;32mreturn\u001b[0m \u001b[0mfunction\u001b[0m\u001b[1;33m(\u001b[0m\u001b[1;33m*\u001b[0m\u001b[0margs\u001b[0m\u001b[1;33m,\u001b[0m \u001b[1;33m**\u001b[0m\u001b[0mkwargs\u001b[0m\u001b[1;33m)\u001b[0m\u001b[1;33m\u001b[0m\u001b[1;33m\u001b[0m\u001b[0m\n\u001b[0m\u001b[0;32m     91\u001b[0m     return FunctionMaker.create(\n\u001b[0;32m     92\u001b[0m         \u001b[0mfunction\u001b[0m\u001b[1;33m,\u001b[0m \u001b[1;34m'return decfunc(%(signature)s)'\u001b[0m\u001b[1;33m,\u001b[0m\u001b[1;33m\u001b[0m\u001b[1;33m\u001b[0m\u001b[0m\n",
      "\u001b[1;32mC:\\ProgramData\\Anaconda3\\lib\\site-packages\\mne\\datasets\\limo\\limo.py\u001b[0m in \u001b[0;36mload_data\u001b[1;34m(subject, path, force_update, update_path, verbose)\u001b[0m\n\u001b[0;32m    172\u001b[0m \u001b[1;33m\u001b[0m\u001b[0m\n\u001b[0;32m    173\u001b[0m     \u001b[1;31m# set limo path, download and decompress files if not found\u001b[0m\u001b[1;33m\u001b[0m\u001b[1;33m\u001b[0m\u001b[1;33m\u001b[0m\u001b[0m\n\u001b[1;32m--> 174\u001b[1;33m     \u001b[0mlimo_path\u001b[0m \u001b[1;33m=\u001b[0m \u001b[0mdata_path\u001b[0m\u001b[1;33m(\u001b[0m\u001b[0msubject\u001b[0m\u001b[1;33m,\u001b[0m \u001b[0mpath\u001b[0m\u001b[1;33m,\u001b[0m \u001b[0mforce_update\u001b[0m\u001b[1;33m,\u001b[0m \u001b[0mupdate_path\u001b[0m\u001b[1;33m)\u001b[0m\u001b[1;33m\u001b[0m\u001b[1;33m\u001b[0m\u001b[0m\n\u001b[0m\u001b[0;32m    175\u001b[0m \u001b[1;33m\u001b[0m\u001b[0m\n\u001b[0;32m    176\u001b[0m     \u001b[1;31m# -- 1) import .mat files\u001b[0m\u001b[1;33m\u001b[0m\u001b[1;33m\u001b[0m\u001b[1;33m\u001b[0m\u001b[0m\n",
      "\u001b[1;32m<C:\\ProgramData\\Anaconda3\\lib\\site-packages\\mne\\externals\\decorator.py:decorator-gen-364>\u001b[0m in \u001b[0;36mdata_path\u001b[1;34m(subject, path, force_update, update_path, verbose)\u001b[0m\n",
      "\u001b[1;32mC:\\ProgramData\\Anaconda3\\lib\\site-packages\\mne\\utils\\_logging.py\u001b[0m in \u001b[0;36mwrapper\u001b[1;34m(*args, **kwargs)\u001b[0m\n\u001b[0;32m     88\u001b[0m             \u001b[1;32mwith\u001b[0m \u001b[0muse_log_level\u001b[0m\u001b[1;33m(\u001b[0m\u001b[0mverbose_level\u001b[0m\u001b[1;33m)\u001b[0m\u001b[1;33m:\u001b[0m\u001b[1;33m\u001b[0m\u001b[1;33m\u001b[0m\u001b[0m\n\u001b[0;32m     89\u001b[0m                 \u001b[1;32mreturn\u001b[0m \u001b[0mfunction\u001b[0m\u001b[1;33m(\u001b[0m\u001b[1;33m*\u001b[0m\u001b[0margs\u001b[0m\u001b[1;33m,\u001b[0m \u001b[1;33m**\u001b[0m\u001b[0mkwargs\u001b[0m\u001b[1;33m)\u001b[0m\u001b[1;33m\u001b[0m\u001b[1;33m\u001b[0m\u001b[0m\n\u001b[1;32m---> 90\u001b[1;33m         \u001b[1;32mreturn\u001b[0m \u001b[0mfunction\u001b[0m\u001b[1;33m(\u001b[0m\u001b[1;33m*\u001b[0m\u001b[0margs\u001b[0m\u001b[1;33m,\u001b[0m \u001b[1;33m**\u001b[0m\u001b[0mkwargs\u001b[0m\u001b[1;33m)\u001b[0m\u001b[1;33m\u001b[0m\u001b[1;33m\u001b[0m\u001b[0m\n\u001b[0m\u001b[0;32m     91\u001b[0m     return FunctionMaker.create(\n\u001b[0;32m     92\u001b[0m         \u001b[0mfunction\u001b[0m\u001b[1;33m,\u001b[0m \u001b[1;34m'return decfunc(%(signature)s)'\u001b[0m\u001b[1;33m,\u001b[0m\u001b[1;33m\u001b[0m\u001b[1;33m\u001b[0m\u001b[0m\n",
      "\u001b[1;32mC:\\ProgramData\\Anaconda3\\lib\\site-packages\\mne\\datasets\\limo\\limo.py\u001b[0m in \u001b[0;36mdata_path\u001b[1;34m(subject, path, force_update, update_path, verbose)\u001b[0m\n\u001b[0;32m    115\u001b[0m     \u001b[1;32mif\u001b[0m \u001b[1;32mnot\u001b[0m \u001b[0mop\u001b[0m\u001b[1;33m.\u001b[0m\u001b[0misdir\u001b[0m\u001b[1;33m(\u001b[0m\u001b[0mop\u001b[0m\u001b[1;33m.\u001b[0m\u001b[0mjoin\u001b[0m\u001b[1;33m(\u001b[0m\u001b[0mlimo_dir\u001b[0m\u001b[1;33m,\u001b[0m \u001b[0msubject_id\u001b[0m\u001b[1;33m)\u001b[0m\u001b[1;33m)\u001b[0m\u001b[1;33m:\u001b[0m\u001b[1;33m\u001b[0m\u001b[1;33m\u001b[0m\u001b[0m\n\u001b[0;32m    116\u001b[0m         \u001b[0mos\u001b[0m\u001b[1;33m.\u001b[0m\u001b[0mmakedirs\u001b[0m\u001b[1;33m(\u001b[0m\u001b[0mop\u001b[0m\u001b[1;33m.\u001b[0m\u001b[0mjoin\u001b[0m\u001b[1;33m(\u001b[0m\u001b[0mlimo_dir\u001b[0m\u001b[1;33m,\u001b[0m \u001b[0msubject_id\u001b[0m\u001b[1;33m)\u001b[0m\u001b[1;33m)\u001b[0m\u001b[1;33m\u001b[0m\u001b[1;33m\u001b[0m\u001b[0m\n\u001b[1;32m--> 117\u001b[1;33m         \u001b[0m_fetch_file\u001b[0m\u001b[1;33m(\u001b[0m\u001b[0murl\u001b[0m\u001b[1;33m,\u001b[0m \u001b[0mdestination\u001b[0m\u001b[1;33m,\u001b[0m \u001b[0mprint_destination\u001b[0m\u001b[1;33m=\u001b[0m\u001b[1;32mFalse\u001b[0m\u001b[1;33m)\u001b[0m\u001b[1;33m\u001b[0m\u001b[1;33m\u001b[0m\u001b[0m\n\u001b[0m\u001b[0;32m    118\u001b[0m \u001b[1;33m\u001b[0m\u001b[0m\n\u001b[0;32m    119\u001b[0m         \u001b[1;31m# check if download is a zip-folder\u001b[0m\u001b[1;33m\u001b[0m\u001b[1;33m\u001b[0m\u001b[1;33m\u001b[0m\u001b[0m\n",
      "\u001b[1;32m<C:\\ProgramData\\Anaconda3\\lib\\site-packages\\mne\\externals\\decorator.py:decorator-gen-3>\u001b[0m in \u001b[0;36m_fetch_file\u001b[1;34m(url, file_name, print_destination, resume, hash_, timeout, hash_type, verbose)\u001b[0m\n",
      "\u001b[1;32mC:\\ProgramData\\Anaconda3\\lib\\site-packages\\mne\\utils\\_logging.py\u001b[0m in \u001b[0;36mwrapper\u001b[1;34m(*args, **kwargs)\u001b[0m\n\u001b[0;32m     88\u001b[0m             \u001b[1;32mwith\u001b[0m \u001b[0muse_log_level\u001b[0m\u001b[1;33m(\u001b[0m\u001b[0mverbose_level\u001b[0m\u001b[1;33m)\u001b[0m\u001b[1;33m:\u001b[0m\u001b[1;33m\u001b[0m\u001b[1;33m\u001b[0m\u001b[0m\n\u001b[0;32m     89\u001b[0m                 \u001b[1;32mreturn\u001b[0m \u001b[0mfunction\u001b[0m\u001b[1;33m(\u001b[0m\u001b[1;33m*\u001b[0m\u001b[0margs\u001b[0m\u001b[1;33m,\u001b[0m \u001b[1;33m**\u001b[0m\u001b[0mkwargs\u001b[0m\u001b[1;33m)\u001b[0m\u001b[1;33m\u001b[0m\u001b[1;33m\u001b[0m\u001b[0m\n\u001b[1;32m---> 90\u001b[1;33m         \u001b[1;32mreturn\u001b[0m \u001b[0mfunction\u001b[0m\u001b[1;33m(\u001b[0m\u001b[1;33m*\u001b[0m\u001b[0margs\u001b[0m\u001b[1;33m,\u001b[0m \u001b[1;33m**\u001b[0m\u001b[0mkwargs\u001b[0m\u001b[1;33m)\u001b[0m\u001b[1;33m\u001b[0m\u001b[1;33m\u001b[0m\u001b[0m\n\u001b[0m\u001b[0;32m     91\u001b[0m     return FunctionMaker.create(\n\u001b[0;32m     92\u001b[0m         \u001b[0mfunction\u001b[0m\u001b[1;33m,\u001b[0m \u001b[1;34m'return decfunc(%(signature)s)'\u001b[0m\u001b[1;33m,\u001b[0m\u001b[1;33m\u001b[0m\u001b[1;33m\u001b[0m\u001b[0m\n",
      "\u001b[1;32mC:\\ProgramData\\Anaconda3\\lib\\site-packages\\mne\\utils\\fetching.py\u001b[0m in \u001b[0;36m_fetch_file\u001b[1;34m(url, file_name, print_destination, resume, hash_, timeout, hash_type, verbose)\u001b[0m\n\u001b[0;32m    120\u001b[0m         \u001b[1;31m# this loop is necessary to follow any redirects\u001b[0m\u001b[1;33m\u001b[0m\u001b[1;33m\u001b[0m\u001b[1;33m\u001b[0m\u001b[0m\n\u001b[0;32m    121\u001b[0m         \u001b[1;32mfor\u001b[0m \u001b[0m_\u001b[0m \u001b[1;32min\u001b[0m \u001b[0mrange\u001b[0m\u001b[1;33m(\u001b[0m\u001b[1;36m10\u001b[0m\u001b[1;33m)\u001b[0m\u001b[1;33m:\u001b[0m  \u001b[1;31m# 10 really should be sufficient...\u001b[0m\u001b[1;33m\u001b[0m\u001b[1;33m\u001b[0m\u001b[0m\n\u001b[1;32m--> 122\u001b[1;33m             \u001b[0mu\u001b[0m \u001b[1;33m=\u001b[0m \u001b[0mrequest\u001b[0m\u001b[1;33m.\u001b[0m\u001b[0murlopen\u001b[0m\u001b[1;33m(\u001b[0m\u001b[0murl\u001b[0m\u001b[1;33m,\u001b[0m \u001b[0mtimeout\u001b[0m\u001b[1;33m=\u001b[0m\u001b[0mtimeout\u001b[0m\u001b[1;33m)\u001b[0m\u001b[1;33m\u001b[0m\u001b[1;33m\u001b[0m\u001b[0m\n\u001b[0m\u001b[0;32m    123\u001b[0m             \u001b[1;32mtry\u001b[0m\u001b[1;33m:\u001b[0m\u001b[1;33m\u001b[0m\u001b[1;33m\u001b[0m\u001b[0m\n\u001b[0;32m    124\u001b[0m                 \u001b[0mlast_url\u001b[0m\u001b[1;33m,\u001b[0m \u001b[0murl\u001b[0m \u001b[1;33m=\u001b[0m \u001b[0murl\u001b[0m\u001b[1;33m,\u001b[0m \u001b[0mu\u001b[0m\u001b[1;33m.\u001b[0m\u001b[0mgeturl\u001b[0m\u001b[1;33m(\u001b[0m\u001b[1;33m)\u001b[0m\u001b[1;33m\u001b[0m\u001b[1;33m\u001b[0m\u001b[0m\n",
      "\u001b[1;32mC:\\ProgramData\\Anaconda3\\lib\\urllib\\request.py\u001b[0m in \u001b[0;36murlopen\u001b[1;34m(url, data, timeout, cafile, capath, cadefault, context)\u001b[0m\n\u001b[0;32m    220\u001b[0m     \u001b[1;32melse\u001b[0m\u001b[1;33m:\u001b[0m\u001b[1;33m\u001b[0m\u001b[1;33m\u001b[0m\u001b[0m\n\u001b[0;32m    221\u001b[0m         \u001b[0mopener\u001b[0m \u001b[1;33m=\u001b[0m \u001b[0m_opener\u001b[0m\u001b[1;33m\u001b[0m\u001b[1;33m\u001b[0m\u001b[0m\n\u001b[1;32m--> 222\u001b[1;33m     \u001b[1;32mreturn\u001b[0m \u001b[0mopener\u001b[0m\u001b[1;33m.\u001b[0m\u001b[0mopen\u001b[0m\u001b[1;33m(\u001b[0m\u001b[0murl\u001b[0m\u001b[1;33m,\u001b[0m \u001b[0mdata\u001b[0m\u001b[1;33m,\u001b[0m \u001b[0mtimeout\u001b[0m\u001b[1;33m)\u001b[0m\u001b[1;33m\u001b[0m\u001b[1;33m\u001b[0m\u001b[0m\n\u001b[0m\u001b[0;32m    223\u001b[0m \u001b[1;33m\u001b[0m\u001b[0m\n\u001b[0;32m    224\u001b[0m \u001b[1;32mdef\u001b[0m \u001b[0minstall_opener\u001b[0m\u001b[1;33m(\u001b[0m\u001b[0mopener\u001b[0m\u001b[1;33m)\u001b[0m\u001b[1;33m:\u001b[0m\u001b[1;33m\u001b[0m\u001b[1;33m\u001b[0m\u001b[0m\n",
      "\u001b[1;32mC:\\ProgramData\\Anaconda3\\lib\\urllib\\request.py\u001b[0m in \u001b[0;36mopen\u001b[1;34m(self, fullurl, data, timeout)\u001b[0m\n\u001b[0;32m    529\u001b[0m         \u001b[1;32mfor\u001b[0m \u001b[0mprocessor\u001b[0m \u001b[1;32min\u001b[0m \u001b[0mself\u001b[0m\u001b[1;33m.\u001b[0m\u001b[0mprocess_response\u001b[0m\u001b[1;33m.\u001b[0m\u001b[0mget\u001b[0m\u001b[1;33m(\u001b[0m\u001b[0mprotocol\u001b[0m\u001b[1;33m,\u001b[0m \u001b[1;33m[\u001b[0m\u001b[1;33m]\u001b[0m\u001b[1;33m)\u001b[0m\u001b[1;33m:\u001b[0m\u001b[1;33m\u001b[0m\u001b[1;33m\u001b[0m\u001b[0m\n\u001b[0;32m    530\u001b[0m             \u001b[0mmeth\u001b[0m \u001b[1;33m=\u001b[0m \u001b[0mgetattr\u001b[0m\u001b[1;33m(\u001b[0m\u001b[0mprocessor\u001b[0m\u001b[1;33m,\u001b[0m \u001b[0mmeth_name\u001b[0m\u001b[1;33m)\u001b[0m\u001b[1;33m\u001b[0m\u001b[1;33m\u001b[0m\u001b[0m\n\u001b[1;32m--> 531\u001b[1;33m             \u001b[0mresponse\u001b[0m \u001b[1;33m=\u001b[0m \u001b[0mmeth\u001b[0m\u001b[1;33m(\u001b[0m\u001b[0mreq\u001b[0m\u001b[1;33m,\u001b[0m \u001b[0mresponse\u001b[0m\u001b[1;33m)\u001b[0m\u001b[1;33m\u001b[0m\u001b[1;33m\u001b[0m\u001b[0m\n\u001b[0m\u001b[0;32m    532\u001b[0m \u001b[1;33m\u001b[0m\u001b[0m\n\u001b[0;32m    533\u001b[0m         \u001b[1;32mreturn\u001b[0m \u001b[0mresponse\u001b[0m\u001b[1;33m\u001b[0m\u001b[1;33m\u001b[0m\u001b[0m\n",
      "\u001b[1;32mC:\\ProgramData\\Anaconda3\\lib\\urllib\\request.py\u001b[0m in \u001b[0;36mhttp_response\u001b[1;34m(self, request, response)\u001b[0m\n\u001b[0;32m    639\u001b[0m         \u001b[1;32mif\u001b[0m \u001b[1;32mnot\u001b[0m \u001b[1;33m(\u001b[0m\u001b[1;36m200\u001b[0m \u001b[1;33m<=\u001b[0m \u001b[0mcode\u001b[0m \u001b[1;33m<\u001b[0m \u001b[1;36m300\u001b[0m\u001b[1;33m)\u001b[0m\u001b[1;33m:\u001b[0m\u001b[1;33m\u001b[0m\u001b[1;33m\u001b[0m\u001b[0m\n\u001b[0;32m    640\u001b[0m             response = self.parent.error(\n\u001b[1;32m--> 641\u001b[1;33m                 'http', request, response, code, msg, hdrs)\n\u001b[0m\u001b[0;32m    642\u001b[0m \u001b[1;33m\u001b[0m\u001b[0m\n\u001b[0;32m    643\u001b[0m         \u001b[1;32mreturn\u001b[0m \u001b[0mresponse\u001b[0m\u001b[1;33m\u001b[0m\u001b[1;33m\u001b[0m\u001b[0m\n",
      "\u001b[1;32mC:\\ProgramData\\Anaconda3\\lib\\urllib\\request.py\u001b[0m in \u001b[0;36merror\u001b[1;34m(self, proto, *args)\u001b[0m\n\u001b[0;32m    567\u001b[0m         \u001b[1;32mif\u001b[0m \u001b[0mhttp_err\u001b[0m\u001b[1;33m:\u001b[0m\u001b[1;33m\u001b[0m\u001b[1;33m\u001b[0m\u001b[0m\n\u001b[0;32m    568\u001b[0m             \u001b[0margs\u001b[0m \u001b[1;33m=\u001b[0m \u001b[1;33m(\u001b[0m\u001b[0mdict\u001b[0m\u001b[1;33m,\u001b[0m \u001b[1;34m'default'\u001b[0m\u001b[1;33m,\u001b[0m \u001b[1;34m'http_error_default'\u001b[0m\u001b[1;33m)\u001b[0m \u001b[1;33m+\u001b[0m \u001b[0morig_args\u001b[0m\u001b[1;33m\u001b[0m\u001b[1;33m\u001b[0m\u001b[0m\n\u001b[1;32m--> 569\u001b[1;33m             \u001b[1;32mreturn\u001b[0m \u001b[0mself\u001b[0m\u001b[1;33m.\u001b[0m\u001b[0m_call_chain\u001b[0m\u001b[1;33m(\u001b[0m\u001b[1;33m*\u001b[0m\u001b[0margs\u001b[0m\u001b[1;33m)\u001b[0m\u001b[1;33m\u001b[0m\u001b[1;33m\u001b[0m\u001b[0m\n\u001b[0m\u001b[0;32m    570\u001b[0m \u001b[1;33m\u001b[0m\u001b[0m\n\u001b[0;32m    571\u001b[0m \u001b[1;31m# XXX probably also want an abstract factory that knows when it makes\u001b[0m\u001b[1;33m\u001b[0m\u001b[1;33m\u001b[0m\u001b[1;33m\u001b[0m\u001b[0m\n",
      "\u001b[1;32mC:\\ProgramData\\Anaconda3\\lib\\urllib\\request.py\u001b[0m in \u001b[0;36m_call_chain\u001b[1;34m(self, chain, kind, meth_name, *args)\u001b[0m\n\u001b[0;32m    501\u001b[0m         \u001b[1;32mfor\u001b[0m \u001b[0mhandler\u001b[0m \u001b[1;32min\u001b[0m \u001b[0mhandlers\u001b[0m\u001b[1;33m:\u001b[0m\u001b[1;33m\u001b[0m\u001b[1;33m\u001b[0m\u001b[0m\n\u001b[0;32m    502\u001b[0m             \u001b[0mfunc\u001b[0m \u001b[1;33m=\u001b[0m \u001b[0mgetattr\u001b[0m\u001b[1;33m(\u001b[0m\u001b[0mhandler\u001b[0m\u001b[1;33m,\u001b[0m \u001b[0mmeth_name\u001b[0m\u001b[1;33m)\u001b[0m\u001b[1;33m\u001b[0m\u001b[1;33m\u001b[0m\u001b[0m\n\u001b[1;32m--> 503\u001b[1;33m             \u001b[0mresult\u001b[0m \u001b[1;33m=\u001b[0m \u001b[0mfunc\u001b[0m\u001b[1;33m(\u001b[0m\u001b[1;33m*\u001b[0m\u001b[0margs\u001b[0m\u001b[1;33m)\u001b[0m\u001b[1;33m\u001b[0m\u001b[1;33m\u001b[0m\u001b[0m\n\u001b[0m\u001b[0;32m    504\u001b[0m             \u001b[1;32mif\u001b[0m \u001b[0mresult\u001b[0m \u001b[1;32mis\u001b[0m \u001b[1;32mnot\u001b[0m \u001b[1;32mNone\u001b[0m\u001b[1;33m:\u001b[0m\u001b[1;33m\u001b[0m\u001b[1;33m\u001b[0m\u001b[0m\n\u001b[0;32m    505\u001b[0m                 \u001b[1;32mreturn\u001b[0m \u001b[0mresult\u001b[0m\u001b[1;33m\u001b[0m\u001b[1;33m\u001b[0m\u001b[0m\n",
      "\u001b[1;32mC:\\ProgramData\\Anaconda3\\lib\\urllib\\request.py\u001b[0m in \u001b[0;36mhttp_error_default\u001b[1;34m(self, req, fp, code, msg, hdrs)\u001b[0m\n\u001b[0;32m    647\u001b[0m \u001b[1;32mclass\u001b[0m \u001b[0mHTTPDefaultErrorHandler\u001b[0m\u001b[1;33m(\u001b[0m\u001b[0mBaseHandler\u001b[0m\u001b[1;33m)\u001b[0m\u001b[1;33m:\u001b[0m\u001b[1;33m\u001b[0m\u001b[1;33m\u001b[0m\u001b[0m\n\u001b[0;32m    648\u001b[0m     \u001b[1;32mdef\u001b[0m \u001b[0mhttp_error_default\u001b[0m\u001b[1;33m(\u001b[0m\u001b[0mself\u001b[0m\u001b[1;33m,\u001b[0m \u001b[0mreq\u001b[0m\u001b[1;33m,\u001b[0m \u001b[0mfp\u001b[0m\u001b[1;33m,\u001b[0m \u001b[0mcode\u001b[0m\u001b[1;33m,\u001b[0m \u001b[0mmsg\u001b[0m\u001b[1;33m,\u001b[0m \u001b[0mhdrs\u001b[0m\u001b[1;33m)\u001b[0m\u001b[1;33m:\u001b[0m\u001b[1;33m\u001b[0m\u001b[1;33m\u001b[0m\u001b[0m\n\u001b[1;32m--> 649\u001b[1;33m         \u001b[1;32mraise\u001b[0m \u001b[0mHTTPError\u001b[0m\u001b[1;33m(\u001b[0m\u001b[0mreq\u001b[0m\u001b[1;33m.\u001b[0m\u001b[0mfull_url\u001b[0m\u001b[1;33m,\u001b[0m \u001b[0mcode\u001b[0m\u001b[1;33m,\u001b[0m \u001b[0mmsg\u001b[0m\u001b[1;33m,\u001b[0m \u001b[0mhdrs\u001b[0m\u001b[1;33m,\u001b[0m \u001b[0mfp\u001b[0m\u001b[1;33m)\u001b[0m\u001b[1;33m\u001b[0m\u001b[1;33m\u001b[0m\u001b[0m\n\u001b[0m\u001b[0;32m    650\u001b[0m \u001b[1;33m\u001b[0m\u001b[0m\n\u001b[0;32m    651\u001b[0m \u001b[1;32mclass\u001b[0m \u001b[0mHTTPRedirectHandler\u001b[0m\u001b[1;33m(\u001b[0m\u001b[0mBaseHandler\u001b[0m\u001b[1;33m)\u001b[0m\u001b[1;33m:\u001b[0m\u001b[1;33m\u001b[0m\u001b[1;33m\u001b[0m\u001b[0m\n",
      "\u001b[1;31mHTTPError\u001b[0m: HTTP Error 404: Not Found"
     ]
    }
   ],
   "source": [
    "print(__doc__)\n",
    "\n",
    "# fetch data from subject 2 and interpolate missing channels\n",
    "limo_epochs = limo.load_data(subject=2)\n",
    "#【报错】Dataset fetching aborted."
   ]
  },
  {
   "cell_type": "code",
   "execution_count": null,
   "metadata": {},
   "outputs": [],
   "source": [
    "###############################################################################\n",
    "# In the original LIMO experiment, participants performed a two-alternative\n",
    "# forced choice task discriminating between the same two faces.\n",
    "# The critical manipulation in the experiment was that the phase-coherence of\n",
    "# the presented face-stimuli was varied across a noise-signal continuum\n",
    "# spanning from 0 to 100 %. In other words, faces with high phase coherence\n",
    "# were easily discernible, while faces with low phase-coherence were hard to\n",
    "# identify as such).\n",
    "# The events coding the presentation of each of these two faces are stored in\n",
    "# ``limo_epochs.events``.\n",
    "#\n",
    "# We can visualise the distribution of the face events contained in the\n",
    "# epochs structure. Events should appear clearly grouped, as they are ordered\n",
    "# during the import process.\n",
    "fig, ax = plt.subplots(figsize=(7, 5))\n",
    "mne.viz.plot_events(limo_epochs.events, event_id=limo_epochs.event_id, axes=ax)\n",
    "ax.set(title=\"Distribution of events\")\n",
    "plt.legend(loc='lower left', borderaxespad=1.)\n",
    "plt.tight_layout()\n",
    "plt.show()"
   ]
  },
  {
   "cell_type": "code",
   "execution_count": null,
   "metadata": {},
   "outputs": [],
   "source": [
    "###############################################################################\n",
    "# As it can be seen above, events are coded as ``Face/A`` and ``Face/B``.\n",
    "# Information about the phase-coherence of the presented faces is stored in\n",
    "# ``limo_epochs.metadata``, which also contains information about the presented\n",
    "# faces for convenience.\n",
    "#\n",
    "# Check epochs metadata\n",
    "print(limo_epochs.metadata.head())"
   ]
  },
  {
   "cell_type": "code",
   "execution_count": null,
   "metadata": {},
   "outputs": [],
   "source": [
    "###############################################################################\n",
    "# Before going on, we'll drop the EOG channels present in the LIMO epochs\n",
    "# (coded with EXG-prefix in ``limo_epochs.info['ch_names']``, as data has\n",
    "# already been cleaned.\n",
    "limo_epochs.drop_channels(['EXG1', 'EXG2', 'EXG3', 'EXG4'])\n",
    "\n",
    "# Furthermore, some datasets contain missing channels (stored in\n",
    "# ``limo_epochs.info[‘bads’]``), which were dropped during preprocessing of the\n",
    "# data. We’ll interpolate this channels for convenience.\n",
    "limo_epochs.interpolate_bads(reset_bads=True)"
   ]
  },
  {
   "cell_type": "code",
   "execution_count": null,
   "metadata": {},
   "outputs": [],
   "source": [
    "###############################################################################\n",
    "# Now we can go ahead and plot the ERPs evoked by Face A and Face B\n",
    "\n",
    "# only show -250 to 500 ms\n",
    "ts_args = dict(xlim=(-.25, 0.5))\n",
    "\n",
    "# plot evoked response for faces A & B\n",
    "limo_epochs['Face/A'].average().plot_joint(times=[.15],\n",
    "                                           title='Evoked response: Face A',\n",
    "                                           ts_args=ts_args)\n",
    "\n",
    "limo_epochs['Face/B'].average().plot_joint(times=[.15],\n",
    "                                           title='Evoked response: Face B',\n",
    "                                           ts_args=ts_args)"
   ]
  },
  {
   "cell_type": "code",
   "execution_count": null,
   "metadata": {},
   "outputs": [],
   "source": [
    "###############################################################################\n",
    "# We can also compute the difference wave contrasting Face A and Face B.\n",
    "# Although, looking at the evoked responses above, we shouldn't expect great\n",
    "# differences among these face-stimuli.\n",
    "#\n",
    "# Compute difference wave (Face A minus Face B)\n",
    "difference_wave = mne.combine_evoked([limo_epochs['Face/A'].average(),\n",
    "                                     -limo_epochs['Face/B'].average()],\n",
    "                                     weights='equal')\n",
    "\n",
    "# Plot difference between Face A and Face B\n",
    "difference_wave.plot_joint(times=[.15], title='Difference Face A - Face B')"
   ]
  },
  {
   "cell_type": "code",
   "execution_count": null,
   "metadata": {},
   "outputs": [],
   "source": [
    "###############################################################################\n",
    "# As expected, no see clear differential patterns appears when contrasting\n",
    "# Face A and Face B. However, we could narrow our search to\n",
    "# since this is a \"visual paradigm\" it might be best to electrodes located over\n",
    "# the occipital lobe. After all this is \"visual paradigm\". Thus, differences\n",
    "# between stimuli (if any) might easier to spot over \"more visual areas\".\n",
    "#\n",
    "# Create a dictionary containing the evoked responses\n",
    "conditions = [\"Face/A\", \"Face/B\"]\n",
    "evoked_dict = dict()\n",
    "for condition in conditions:\n",
    "    evoked_dict[condition] = limo_epochs[condition].average()\n",
    "print(evoked_dict)\n",
    "\n",
    "# concentrate on an occipital electrode\n",
    "pick = evoked_dict[\"Face/A\"].ch_names.index('B11')\n",
    "\n",
    "# compare evoked responses\n",
    "mne.viz.plot_compare_evokeds(evoked_dict, picks=pick)"
   ]
  },
  {
   "cell_type": "code",
   "execution_count": null,
   "metadata": {},
   "outputs": [],
   "source": [
    "###############################################################################\n",
    "# Next, we can inspect the effect of phase-coherence on the activation\n",
    "# patterns evoked by the presented face-stimuli.\n",
    "# Here, one would expect that faces with high phase-coherence evoke a stronger\n",
    "# response, as participants should be better at identifying these faces.\n",
    "#\n",
    "# Create design matrix for linear regression. We'll use the information\n",
    "# contained in the ``limo_epochs.metadata``.\n",
    "design = limo_epochs.metadata.copy()\n",
    "design = design.assign(intercept=1)  # add intercept\n",
    "design['face a - face b'] = np.where(design['face'] == 'A', 1, -1)\n",
    "names = ['intercept', 'face a - face b', 'phase-coherence']\n",
    "\n",
    "# fit linear model\n",
    "reg = linear_regression(limo_epochs, design[names], names=names)"
   ]
  },
  {
   "cell_type": "code",
   "execution_count": null,
   "metadata": {},
   "outputs": [],
   "source": [
    "###############################################################################\n",
    "# Visualise effect of phase-coherence.\n",
    "reg['phase-coherence'].beta.plot_joint(ts_args=ts_args,\n",
    "                                       title='Effect of phase-coherence',\n",
    "                                       times=[.23])"
   ]
  },
  {
   "cell_type": "code",
   "execution_count": null,
   "metadata": {},
   "outputs": [],
   "source": [
    "###############################################################################\n",
    "# Here we can see a clear effect of phase-coherence, with higher\n",
    "# phase-coherence (i.e., better \"face visibility\") being associated with\n",
    "# stronger activity patterns.\n",
    "\n",
    "###############################################################################\n",
    "# Conversely, there appears to be no (or very small) systematic effects when\n",
    "# constraining Face A and Face B. This is largely consistent with the\n",
    "# difference wave approach presented above.\n",
    "#\n",
    "# Visualise effect of face condition (Face A vs. Face B).\n",
    "reg['face a - face b'].beta.plot_joint(title='Contrast: Face A - Face B',\n",
    "                                       ts_args=ts_args,\n",
    "                                       times=[.15])"
   ]
  }
 ],
 "metadata": {
  "kernelspec": {
   "display_name": "Python 3",
   "language": "python",
   "name": "python3"
  },
  "language_info": {
   "codemirror_mode": {
    "name": "ipython",
    "version": 3
   },
   "file_extension": ".py",
   "mimetype": "text/x-python",
   "name": "python",
   "nbconvert_exporter": "python",
   "pygments_lexer": "ipython3",
   "version": "3.7.4"
  }
 },
 "nbformat": 4,
 "nbformat_minor": 4
}
