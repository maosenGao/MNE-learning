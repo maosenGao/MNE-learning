{
 "cells": [
  {
   "cell_type": "markdown",
   "metadata": {},
   "source": [
    "# Python-EEG工具库MNE中文教程(6)-读取.set文件和.locs文件 \n",
    "\n",
    "本案例主要介绍如何读取eeglab示例文件.set以及.locs文件。  \n",
    ".set文件记录的是采集的信息，主要内容包括通道数，事件数，开始时间与结束时间等。  \n",
    ".locs文件记录的是电极位置信息。  \n",
    "  \n",
    "## 知识点：  \n",
    "mne中使用mne.io.read_raw_eeglab()读取.set文件；  \n",
    "利用mne.channels.read_custom_montage()读取.locs文件。  \n",
    "\n",
    "read_raw_eeglab()函数介绍：  \n",
    "mne.io.read_raw_eeglab(input_fname,  \n",
    "                       montage='deprecated',  \n",
    "                       eog=(),   \n",
    "                      preload=False,   \n",
    "                      uint16_codec=None,   \n",
    "                      verbose=None)      \n",
    "## 参数解读：  \n",
    "\n",
    "input_fname：.set文件的存放路径;   \n",
    " montage='deprecated':该参数已经舍弃了。  \n",
    "在0.19版本中，它的功能可以通过set_montage方法来实现;   \n",
    " eog:指定eog通道的通道名称或索引，如果设置为auto，  \n",
    "则使用包含eog和eye的通道名称。  \n",
    "默认情况为空元组;  \n",
    "  preload:类型  \n",
    " str或者bool  \n",
    " 如果为True,则数据将预加载到内存中，以满足更快速的索引;   \n",
    " uint16_codec:类型 str | None  \n",
    "    允许指定读取字符数组时应用的编解码器(比如,\"latin1\"或者\"utf-8\")  \n"
   ]
  },
  {
   "cell_type": "code",
   "execution_count": 4,
   "metadata": {},
   "outputs": [
    {
     "ename": "OSError",
     "evalue": "The file Eeglab_data.set does not exist.",
     "output_type": "error",
     "traceback": [
      "\u001b[1;31m---------------------------------------------------------------------------\u001b[0m",
      "\u001b[1;31mOSError\u001b[0m                                   Traceback (most recent call last)",
      "\u001b[1;32m<ipython-input-4-145ce3fcece6>\u001b[0m in \u001b[0;36m<module>\u001b[1;34m\u001b[0m\n\u001b[0;32m      9\u001b[0m \u001b[1;34m\"\"\"通过mne.io.read_raw_eeglab来读取.set文件得到原始数据对象\"\"\"\u001b[0m\u001b[1;33m\u001b[0m\u001b[1;33m\u001b[0m\u001b[0m\n\u001b[0;32m     10\u001b[0m raw = mne.io.read_raw_eeglab(\"Eeglab_data.set\",\n\u001b[1;32m---> 11\u001b[1;33m                              \u001b[0mpreload\u001b[0m \u001b[1;33m=\u001b[0m \u001b[1;32mFalse\u001b[0m\u001b[1;33m\u001b[0m\u001b[1;33m\u001b[0m\u001b[0m\n\u001b[0m\u001b[0;32m     12\u001b[0m                             )\n\u001b[0;32m     13\u001b[0m \u001b[1;33m\u001b[0m\u001b[0m\n",
      "\u001b[1;32m~\\.conda\\envs\\EEG-Python\\lib\\site-packages\\mne\\io\\eeglab\\eeglab.py\u001b[0m in \u001b[0;36mread_raw_eeglab\u001b[1;34m(input_fname, montage, eog, preload, uint16_codec, verbose)\u001b[0m\n\u001b[0;32m    185\u001b[0m     \"\"\"\n\u001b[0;32m    186\u001b[0m     return RawEEGLAB(input_fname=input_fname, montage=montage, preload=preload,\n\u001b[1;32m--> 187\u001b[1;33m                      eog=eog, verbose=verbose, uint16_codec=uint16_codec)\n\u001b[0m\u001b[0;32m    188\u001b[0m \u001b[1;33m\u001b[0m\u001b[0m\n\u001b[0;32m    189\u001b[0m \u001b[1;33m\u001b[0m\u001b[0m\n",
      "\u001b[1;32m<C:\\Users\\zx305\\.conda\\envs\\EEG-Python\\lib\\site-packages\\mne\\externals\\decorator.py:decorator-gen-193>\u001b[0m in \u001b[0;36m__init__\u001b[1;34m(self, input_fname, montage, eog, preload, uint16_codec, verbose)\u001b[0m\n",
      "\u001b[1;32m~\\.conda\\envs\\EEG-Python\\lib\\site-packages\\mne\\utils\\_logging.py\u001b[0m in \u001b[0;36mwrapper\u001b[1;34m(*args, **kwargs)\u001b[0m\n\u001b[0;32m     88\u001b[0m             \u001b[1;32mwith\u001b[0m \u001b[0muse_log_level\u001b[0m\u001b[1;33m(\u001b[0m\u001b[0mverbose_level\u001b[0m\u001b[1;33m)\u001b[0m\u001b[1;33m:\u001b[0m\u001b[1;33m\u001b[0m\u001b[1;33m\u001b[0m\u001b[0m\n\u001b[0;32m     89\u001b[0m                 \u001b[1;32mreturn\u001b[0m \u001b[0mfunction\u001b[0m\u001b[1;33m(\u001b[0m\u001b[1;33m*\u001b[0m\u001b[0margs\u001b[0m\u001b[1;33m,\u001b[0m \u001b[1;33m**\u001b[0m\u001b[0mkwargs\u001b[0m\u001b[1;33m)\u001b[0m\u001b[1;33m\u001b[0m\u001b[1;33m\u001b[0m\u001b[0m\n\u001b[1;32m---> 90\u001b[1;33m         \u001b[1;32mreturn\u001b[0m \u001b[0mfunction\u001b[0m\u001b[1;33m(\u001b[0m\u001b[1;33m*\u001b[0m\u001b[0margs\u001b[0m\u001b[1;33m,\u001b[0m \u001b[1;33m**\u001b[0m\u001b[0mkwargs\u001b[0m\u001b[1;33m)\u001b[0m\u001b[1;33m\u001b[0m\u001b[1;33m\u001b[0m\u001b[0m\n\u001b[0m\u001b[0;32m     91\u001b[0m     return FunctionMaker.create(\n\u001b[0;32m     92\u001b[0m         \u001b[0mfunction\u001b[0m\u001b[1;33m,\u001b[0m \u001b[1;34m'return decfunc(%(signature)s)'\u001b[0m\u001b[1;33m,\u001b[0m\u001b[1;33m\u001b[0m\u001b[1;33m\u001b[0m\u001b[0m\n",
      "\u001b[1;32m~\\.conda\\envs\\EEG-Python\\lib\\site-packages\\mne\\io\\eeglab\\eeglab.py\u001b[0m in \u001b[0;36m__init__\u001b[1;34m(self, input_fname, montage, eog, preload, uint16_codec, verbose)\u001b[0m\n\u001b[0;32m    290\u001b[0m                  preload=False, uint16_codec=None, verbose=None):  # noqa: D102\n\u001b[0;32m    291\u001b[0m         \u001b[0mbasedir\u001b[0m \u001b[1;33m=\u001b[0m \u001b[0mop\u001b[0m\u001b[1;33m.\u001b[0m\u001b[0mdirname\u001b[0m\u001b[1;33m(\u001b[0m\u001b[0minput_fname\u001b[0m\u001b[1;33m)\u001b[0m\u001b[1;33m\u001b[0m\u001b[1;33m\u001b[0m\u001b[0m\n\u001b[1;32m--> 292\u001b[1;33m         \u001b[0meeg\u001b[0m \u001b[1;33m=\u001b[0m \u001b[0m_check_load_mat\u001b[0m\u001b[1;33m(\u001b[0m\u001b[0minput_fname\u001b[0m\u001b[1;33m,\u001b[0m \u001b[0muint16_codec\u001b[0m\u001b[1;33m)\u001b[0m\u001b[1;33m\u001b[0m\u001b[1;33m\u001b[0m\u001b[0m\n\u001b[0m\u001b[0;32m    293\u001b[0m         \u001b[1;32mif\u001b[0m \u001b[0meeg\u001b[0m\u001b[1;33m.\u001b[0m\u001b[0mtrials\u001b[0m \u001b[1;33m!=\u001b[0m \u001b[1;36m1\u001b[0m\u001b[1;33m:\u001b[0m\u001b[1;33m\u001b[0m\u001b[1;33m\u001b[0m\u001b[0m\n\u001b[0;32m    294\u001b[0m             raise TypeError('The number of trials is %d. It must be 1 for raw'\n",
      "\u001b[1;32m~\\.conda\\envs\\EEG-Python\\lib\\site-packages\\mne\\io\\eeglab\\eeglab.py\u001b[0m in \u001b[0;36m_check_load_mat\u001b[1;34m(fname, uint16_codec)\u001b[0m\n\u001b[0;32m     39\u001b[0m     \u001b[1;34m\"\"\"Check if the mat struct contains 'EEG'.\"\"\"\u001b[0m\u001b[1;33m\u001b[0m\u001b[1;33m\u001b[0m\u001b[0m\n\u001b[0;32m     40\u001b[0m     \u001b[1;32mfrom\u001b[0m \u001b[1;33m...\u001b[0m\u001b[0mexternals\u001b[0m\u001b[1;33m.\u001b[0m\u001b[0mpymatreader\u001b[0m \u001b[1;32mimport\u001b[0m \u001b[0mread_mat\u001b[0m\u001b[1;33m\u001b[0m\u001b[1;33m\u001b[0m\u001b[0m\n\u001b[1;32m---> 41\u001b[1;33m     \u001b[0meeg\u001b[0m \u001b[1;33m=\u001b[0m \u001b[0mread_mat\u001b[0m\u001b[1;33m(\u001b[0m\u001b[0mfname\u001b[0m\u001b[1;33m,\u001b[0m \u001b[0muint16_codec\u001b[0m\u001b[1;33m=\u001b[0m\u001b[0muint16_codec\u001b[0m\u001b[1;33m)\u001b[0m\u001b[1;33m\u001b[0m\u001b[1;33m\u001b[0m\u001b[0m\n\u001b[0m\u001b[0;32m     42\u001b[0m     \u001b[1;32mif\u001b[0m \u001b[1;34m'ALLEEG'\u001b[0m \u001b[1;32min\u001b[0m \u001b[0meeg\u001b[0m\u001b[1;33m:\u001b[0m\u001b[1;33m\u001b[0m\u001b[1;33m\u001b[0m\u001b[0m\n\u001b[0;32m     43\u001b[0m         raise NotImplementedError(\n",
      "\u001b[1;32m~\\.conda\\envs\\EEG-Python\\lib\\site-packages\\mne\\externals\\pymatreader\\pymatreader.py\u001b[0m in \u001b[0;36mread_mat\u001b[1;34m(filename, variable_names, ignore_fields, uint16_codec)\u001b[0m\n\u001b[0;32m     74\u001b[0m \u001b[1;33m\u001b[0m\u001b[0m\n\u001b[0;32m     75\u001b[0m     \u001b[1;32mif\u001b[0m \u001b[1;32mnot\u001b[0m \u001b[0mos\u001b[0m\u001b[1;33m.\u001b[0m\u001b[0mpath\u001b[0m\u001b[1;33m.\u001b[0m\u001b[0mexists\u001b[0m\u001b[1;33m(\u001b[0m\u001b[0mfilename\u001b[0m\u001b[1;33m)\u001b[0m\u001b[1;33m:\u001b[0m\u001b[1;33m\u001b[0m\u001b[1;33m\u001b[0m\u001b[0m\n\u001b[1;32m---> 76\u001b[1;33m         \u001b[1;32mraise\u001b[0m \u001b[0mIOError\u001b[0m\u001b[1;33m(\u001b[0m\u001b[1;34m'The file %s does not exist.'\u001b[0m \u001b[1;33m%\u001b[0m \u001b[1;33m(\u001b[0m\u001b[0mfilename\u001b[0m\u001b[1;33m,\u001b[0m\u001b[1;33m)\u001b[0m\u001b[1;33m)\u001b[0m\u001b[1;33m\u001b[0m\u001b[1;33m\u001b[0m\u001b[0m\n\u001b[0m\u001b[0;32m     77\u001b[0m \u001b[1;33m\u001b[0m\u001b[0m\n\u001b[0;32m     78\u001b[0m     \u001b[1;32mif\u001b[0m \u001b[0mignore_fields\u001b[0m \u001b[1;32mis\u001b[0m \u001b[1;32mNone\u001b[0m\u001b[1;33m:\u001b[0m\u001b[1;33m\u001b[0m\u001b[1;33m\u001b[0m\u001b[0m\n",
      "\u001b[1;31mOSError\u001b[0m: The file Eeglab_data.set does not exist."
     ]
    }
   ],
   "source": [
    "# 案例\n",
    "# \t• \n",
    "# \t• \n",
    "import mne\n",
    "import matplotlib.pyplot as plt\n",
    "# 1. 利用mne.io.read_raw_eeglab来读取.set文件\n",
    "# \t• \n",
    "# \t• \n",
    "\"\"\"通过mne.io.read_raw_eeglab来读取.set文件得到原始数据对象\"\"\"\n",
    "raw = mne.io.read_raw_eeglab(\"Eeglab_data.set\",\n",
    "                             preload = False\n",
    "                            )\n",
    "\n",
    "# 2. 绘制从第5s开始,5s时间窗口长的原始数据\n",
    "# \t• \n",
    "# \t• \n",
    "# \t• \n",
    "# \t• \n",
    "# \t• \n",
    "\"\"\"\n",
    "绘制从第5s开始,5s时间窗口长的原始数据\u000b",
    "start:指定开始绘制的时间duration:要绘制的时间窗口\n",
    "从该图中可以看出每个通道的数据波动情况可以通过设置duration的大小来放大或缩小\n",
    "这个有点类似于eeglab中，放大缩小功能。\n",
    "这里相同大小的窗口显示更短时间的数据，相当于eeglab中的选中数据进行放大，反之，即缩小。\n",
    "\"\"\"\n",
    "raw.plot(start=5, duration=5)\n",
    "plt.show()\n"
   ]
  },
  {
   "cell_type": "code",
   "execution_count": null,
   "metadata": {},
   "outputs": [],
   "source": []
  }
 ],
 "metadata": {
  "kernelspec": {
   "display_name": "Python 3",
   "language": "python",
   "name": "python3"
  },
  "language_info": {
   "codemirror_mode": {
    "name": "ipython",
    "version": 3
   },
   "file_extension": ".py",
   "mimetype": "text/x-python",
   "name": "python",
   "nbconvert_exporter": "python",
   "pygments_lexer": "ipython3",
   "version": "3.7.5"
  }
 },
 "nbformat": 4,
 "nbformat_minor": 2
}
