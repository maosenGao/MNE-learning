{
 "cells": [
  {
   "cell_type": "markdown",
   "metadata": {},
   "source": [
    "# Python-EEG工具库MNE中文教程(6)-读取.set文件和.locs文件 \n",
    "\n",
    "本案例主要介绍如何读取eeglab示例文件.set以及.locs文件。  \n",
    ".set文件记录的是采集的信息，主要内容包括通道数，事件数，开始时间与结束时间等。  \n",
    ".locs文件记录的是电极位置信息。  \n",
    "  \n",
    "## 知识点：  \n",
    "mne中使用mne.io.read_raw_eeglab()读取.set文件；  \n",
    "利用mne.channels.read_custom_montage()读取.locs文件。  \n",
    "\n",
    "read_raw_eeglab()函数介绍：  \n",
    "mne.io.read_raw_eeglab(input_fname,  \n",
    "                       montage='deprecated',  \n",
    "                       eog=(),   \n",
    "                      preload=False,   \n",
    "                      uint16_codec=None,   \n",
    "                      verbose=None)      \n",
    "## 参数解读：  \n",
    "\n",
    "input_fname：.set文件的存放路径;   \n",
    " montage='deprecated':该参数已经舍弃了。  \n",
    "在0.19版本中，它的功能可以通过set_montage方法来实现;   \n",
    " eog:指定eog通道的通道名称或索引，如果设置为auto，  \n",
    "则使用包含eog和eye的通道名称。  \n",
    "默认情况为空元组;  \n",
    "  preload:类型  \n",
    " str或者bool  \n",
    " 如果为True,则数据将预加载到内存中，以满足更快速的索引;   \n",
    " uint16_codec:类型 str | None  \n",
    "    允许指定读取字符数组时应用的编解码器(比如,\"latin1\"或者\"utf-8\")  \n"
   ]
  },
  {
   "cell_type": "code",
   "execution_count": null,
   "metadata": {},
   "outputs": [],
   "source": [
    "# 案例\n",
    "# \t• \n",
    "# \t• \n",
    "import mne\n",
    "import matplotlib.pyplot as plt\n",
    "# 1. 利用mne.io.read_raw_eeglab来读取.set文件\n",
    "# \t• \n",
    "# \t• \n",
    "\"\"\"通过mne.io.read_raw_eeglab来读取.set文件得到原始数据对象\"\"\"\n",
    "raw = mne.io.read_raw_eeglab(\"Eeglab_data.set\",\n",
    "                             preload = False\n",
    "                            )\n",
    "\n",
    "# 2. 绘制从第5s开始,5s时间窗口长的原始数据\n",
    "\n",
    "\"\"\"\n",
    "绘制从第5s开始,5s时间窗口长的原始数据\n",
    "start:指定开始绘制的时间duration:要绘制的时间窗口\n",
    "从该图中可以看出每个通道的数据波动情况可以通过设置duration的大小来放大或缩小\n",
    "这个有点类似于eeglab中，放大缩小功能。\n",
    "这里相同大小的窗口显示更短时间的数据，相当于eeglab中的选中数据进行放大，反之，即缩小。\n",
    "\"\"\"\n",
    "raw.plot(start=5, duration=5)\n",
    "plt.show()\n"
   ]
  },
  {
   "cell_type": "code",
   "execution_count": null,
   "metadata": {},
   "outputs": [],
   "source": []
  }
 ],
 "metadata": {
  "kernelspec": {
   "display_name": "Python 3",
   "language": "python",
   "name": "python3"
  },
  "language_info": {
   "codemirror_mode": {
    "name": "ipython",
    "version": 3
   },
   "file_extension": ".py",
   "mimetype": "text/x-python",
   "name": "python",
   "nbconvert_exporter": "python",
   "pygments_lexer": "ipython3",
   "version": "3.7.4"
  }
 },
 "nbformat": 4,
 "nbformat_minor": 4
}
